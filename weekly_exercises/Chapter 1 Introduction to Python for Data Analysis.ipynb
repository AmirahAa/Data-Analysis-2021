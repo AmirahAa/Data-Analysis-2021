{
 "cells": [
  {
   "cell_type": "code",
   "execution_count": 30,
   "metadata": {},
   "outputs": [
    {
     "data": {
      "text/html": [
       "<style>div.warn { background-color: #fcf2f2;border-color: #dFb5b4; border-left: 5px solid #dfb5b4; padding: 0.5em;}</style>"
      ],
      "text/plain": [
       "<IPython.core.display.HTML object>"
      ]
     },
     "execution_count": 30,
     "metadata": {},
     "output_type": "execute_result"
    }
   ],
   "source": [
    "# this is some code to get pretty highlighted cells for the questions - ignore this\n",
    "from IPython.display import HTML\n",
    "style1 = \"<style>div.warn { background-color: #fcf2f2;border-color: #dFb5b4; border-left: 5px solid #dfb5b4; padding: 0.5em;}</style>\"\n",
    "HTML(style1)"
   ]
  },
  {
   "cell_type": "markdown",
   "metadata": {},
   "source": [
    "# Getting Started \n",
    "\n",
    "This notebook we will help you get familiar with Jupyter notebooks and using python - this is important not only for practice required for the assessements, but also to go through some of the basic concepts of the course. Some core concepts of Data Analysis will only be taught via the Jupyter notebooks and live sessions (and of course the notes).\n",
    "\n",
    "Jupyter notebooks allow us to write text in cells using the **Markdown** format.\n",
    "\n",
    "It also allows us to write code in cells, we will use **Python** in this course.\n",
    "\n",
    "So how do we use Python to work with data? Useful things including reading in datafiles from experiments or telescopes, plotting data, plotting error bars, calculating some useful statistics, and perhaps probabilities, and fit models (lines/curves) to the data.  Python is really useful because we can *import* packages that already have built in tools to make publication quality plots, or estimate the mean or median and so on. These packages include  Numerical Python `numpy` and Scientific Python `SciPy` as well as plotting packages such as `Matplotlib`.   \n",
    "\n",
    "This introduction and the weekly guides are to support you to carry out scientific analysis using data. You do not need to be an experienced programmer, since there are some easy hints and tips that will allow you to do things in a simple way. Eg knowing that you can write an equation in python in the following way `y = x**2` and not `y=x^2`."
   ]
  },
  {
   "cell_type": "markdown",
   "metadata": {},
   "source": [
    "### How to get started - python\n",
    "\n",
    "If Python is new to you, we recommend getting started with [Cardiff Python tutorials](https://alexandria.astro.cf.ac.uk/Joomla-python/index.php/labs). This website also contains other resources (in left hand menu), such as a quick overview of python for coders. This url may require you to click Advanced to bypass the security exception.\n",
    "\n",
    "\n",
    "For further help with Python, these sites are good: [problem-solving with python](https://problemsolvingwithpython.com/), [short guide to python/data analysis](https://www.authorea.com/users/18589/articles/304710-a-short-guide-to-using-python-for-data-analysis-in-experimental-physics) and a book from one of the best educators in python: [Jake VanderPlas](https://jakevdp.github.io/PythonDataScienceHandbook/).\n",
    "\n",
    "Also this notebook will help you get to grips with the basics.\n"
   ]
  },
  {
   "cell_type": "markdown",
   "metadata": {},
   "source": [
    "### How to get started -  Jupyter Notebooks\n"
   ]
  },
  {
   "cell_type": "markdown",
   "metadata": {},
   "source": [
    "You are already using a Jupyter notebook if you are reading this! They are an excellent way to interactively write and execute codes in cells, whilst you can plot your data, discuss your results, fit a model and write the equations and interpretation all in one document. No need to cut and paste code from files into word documents.\n",
    "\n",
    "The first thing you should when you open a Jupyter Notebook is click Cell in the top menu and select Run All. This will ensure you have everything formatted correctly. Do this know for this notebook. \n",
    "\n",
    "Jupyter notebook files end in .ipynb.\n",
    "\n",
    "#### Creating a new notebook\n",
    "\n",
    "You will need to input a name for your notebook e.g. myfirstjupyternotebook.ipynb and select the programming you want (Python 3). You need the .ipynb extension in the name.\n",
    "\n",
    "Open your notebook. Hopefully it will not look to strange to you since Jupyter Notebooks is simply a word processor and code compiler in one. Take some time to look at the menus and see what different options there are.  \n",
    "\n",
    "The notebook contains cells. A cell is a place to either display text or to write some code to be executed by the notebook’s kernel. A kernel is the engine that runs the code in the notebook.\n",
    "\n",
    "#### Using the notebook to do some analysis \n",
    "\n",
    "When you open the notebook, you can see that the first cell is automatically configured to be a code cell. But we want to write a bit of introduction at the top of our notebook, to remind ourselves what this notebook is for.\n",
    "\n",
    "To do this we want to change from a code cell to a text cell. Select the drop down menu in the toolbar that currently says Code and select Markdown instead. Markdown is a writing language with plain text formatting syntax which is nice and simple but can also be converted to HTML. You should notice that the In []: that previously appeared to the left of the cell has disappeared. Now we can type directly into the cell using normal text. Type in something like:\n",
    "\n",
    "This is my first Jupyter notebook\n",
    "\n",
    "Let’s now insert a new cell by clicking on the Cell > insert cell below. This time we’ll keep it in the code format and do some basic maths in python.\n",
    "\n",
    "Enter the following text to this new cell:\n",
    "\n",
    "`x=5\n",
    "y = x**2.\n",
    "print(y)`"
   ]
  },
  {
   "cell_type": "markdown",
   "metadata": {},
   "source": [
    "Your cell will look like this:"
   ]
  },
  {
   "cell_type": "code",
   "execution_count": 34,
   "metadata": {},
   "outputs": [
    {
     "name": "stdout",
     "output_type": "stream",
     "text": [
      "25.0\n"
     ]
    }
   ],
   "source": [
    "x = 5\n",
    "y = x**2.\n",
    "\n",
    "print(y)"
   ]
  },
  {
   "cell_type": "markdown",
   "metadata": {},
   "source": [
    "And we can see that the cell has output the answer y.  But we only get the output answer by compiling the code which in notebooks means we have to click ▶Run or Cell > Run Cells.  \n",
    "\n",
    "Note that to run a cell on its own, select it with the mouse and click ▶Run in the toolbar menu. Or you can go to the Cell menu and click Run, Run All, Run All Above or Run All Below etc. To stop a\n",
    "cell from compiling/running we can click the ◼︎ button to stop the notebook or interrupt it. This is useful if we have complicated code or lots of data being plotted, as it can be very slow at times.\n",
    "\n",
    "Each cell remembers what is above it, this is both good and bad as you only need to\n",
    "define things/import packages once, but you will need to be careful when writing code with similar looking parameters in one notebook!\n",
    "\n",
    "### Saving and exporting Jupyter Notebooks\n",
    "\n",
    "Now is a good time to **Save** your notebook. Do this via clicking \"File > Save\" and checkpoint or pressing Ctrl + S, or by selecting the floppy disk symbol below the File menu.\n",
    "\n",
    "It is best practice to save your changes regularly as computers or browser can crash or 'hang'.  \n",
    "\n",
    "Jupyter notebooks use a Checkpoint which is hidden in a subdirectory called .ipynb_checkpoints. Jupyter autosaves to the checkpoint without altering your notebook file every 120 seconds. When you click \"Save and checkpoint\", it updates your notebook and the checkpoint files. \n",
    "\n",
    "This means that you can recover your unsaved work if something goes wrong by reverting to the checkpoint from the menu via \"File > Revert to Checkpoint\"\n",
    "\n",
    "### Assessed Coursework\n",
    "\n",
    "For submitting assessments for this course, you will submit a Jupyter Notebook to Turnitin on Learning Central. \n",
    "\n",
    "You can export your files to HTML or PDF under the menu File > Download As.  \n",
    "\n",
    "As practice for the Assessments, try the following: File > Download as > HTML.\n",
    "\n",
    "This will download a html version of your notebook to your own computer. \n",
    "Don’t forget to double check that the .html file you created has **all the cells compiled** (as we need them to be compiled to output the answers or make the Markdown text readable) **before** you export to a html. \n",
    "\n",
    "Make sure you name your file something sensible eg Assessment1_studentno.ipynb and save it to a folder called something like Module Code/Notebooks/Coursework.  \n",
    "\n",
    "Open your html file and check everything looks like it should!"
   ]
  },
  {
   "cell_type": "markdown",
   "metadata": {},
   "source": [
    "## Getting started with Markdown"
   ]
  },
  {
   "cell_type": "markdown",
   "metadata": {},
   "source": [
    "Markdown is a really simple way to write text in notebooks. We can use it to describe our methods, state equations that we're using and to write our results and interpretation.   So in that sense we wish to use it as a word processor - ie with titles, subheadings, text, formatted equations etc. \n",
    "\n",
    "We can use the following in a Markdown cell to bold text by writing \\__quantum__ or \\**quantum**\n",
    "\n",
    "eg __quantum__ or **quantum**\n",
    "\n",
    "Here are a few examples to get you started with Markdown, you won't need to do anything more complicated than these examples for this course."
   ]
  },
  {
   "cell_type": "markdown",
   "metadata": {},
   "source": [
    "#### <div class=\"warn\">Example</div>\n",
    "\n",
    "<div class=\"warn\">How to write a title, major heading, a subheading and an even smaller heading in Markdown\n",
    "    \n",
    "</div>"
   ]
  },
  {
   "cell_type": "markdown",
   "metadata": {},
   "source": [
    "To do the following we write:\n",
    "\\# for titles\n",
    "\n",
    "\\## for major headings\n",
    "\n",
    "\\### for subheadings\n",
    "\n",
    "\\#### for 4th level subheadings \n",
    "\n",
    "\n",
    "When compiled this looks like:\n",
    "# for titles\n",
    "## for major headings\n",
    "### for subheadings\n",
    "#### for 4th level subheadings "
   ]
  },
  {
   "cell_type": "markdown",
   "metadata": {},
   "source": [
    "#### <div class=\"warn\">Example</div>\n",
    "\n",
    "<div class=\"warn\">How to write a table in Markdown\n",
    "    \n",
    "</div>"
   ]
  },
  {
   "cell_type": "markdown",
   "metadata": {},
   "source": [
    "A table example is given below <br>\n",
    "\\|a \\|b \\| c\\| <br>\n",
    "\\|--\\|--\\|--\\| <br>\n",
    "\\|1\\|2\\|3\\| <br>\n",
    "\n",
    "This outputs a nicely formatted table like such:\n",
    "\n",
    "|a |b | c|\n",
    "|--|--|--|\n",
    "|1|2|3|"
   ]
  },
  {
   "cell_type": "markdown",
   "metadata": {},
   "source": [
    "#### <div class=\"warn\">Example</div>\n",
    "\n",
    "<div class=\"warn\">How to write an equation in Markdown\n",
    "    \n",
    "</div>"
   ]
  },
  {
   "cell_type": "markdown",
   "metadata": {},
   "source": [
    " `$\\alpha = 10^{2}$` produces $\\alpha = 10^{2}$.\n",
    "\n",
    "`$y=x^2+4$` produces $y=x^2+4$.\n",
    "\n",
    "`$y = a+sin(bx)+c$` produces $ y =a + sin(bx)+c$\n",
    "\n",
    "`$y = \\dfrac{x}{x+3}+\\left(\\dfrac{z}{z^2-1}\\right)$` produces $y = \\dfrac{x}{x+3} + \\left(\\dfrac{z}{z^2-1}\\right)$\n"
   ]
  },
  {
   "cell_type": "markdown",
   "metadata": {},
   "source": [
    "#### <div class=\"warn\">Example</div>\n",
    "\n",
    "<div class=\"warn\">How to write a list in Markdown.\n",
    "    \n",
    "</div>"
   ]
  },
  {
   "cell_type": "markdown",
   "metadata": {},
   "source": [
    "Sometimes we want to include lists.\n",
    "* Which can be indented.\n",
    "\n",
    "Lists can also be numbered.\n",
    "\n",
    "1. Item a\n",
    "1. Item b\n",
    "\n",
    "Or:\n",
    " \n",
    "* Item 1\n",
    "* Item 2"
   ]
  },
  {
   "cell_type": "markdown",
   "metadata": {},
   "source": [
    "#### Tips: \n",
    "i. You can attach image files (jpg, png) directly to a notebook in Markdown cells by dragging and dropping it into the cell.\n",
    "\n",
    "ii. Paragraphs must be separated by an empty line.\n",
    "\n",
    "For additional markdown tips, see this [blog](https://www.dataquest.io/blog/jupyter-notebook-tutorial/) and this [blog](https://guides.github.com/features/mastering-markdown/)."
   ]
  },
  {
   "cell_type": "markdown",
   "metadata": {},
   "source": [
    "## Getting started with Python"
   ]
  },
  {
   "cell_type": "markdown",
   "metadata": {},
   "source": [
    "### Importing packages\n",
    "\n",
    "In general, it is good practice to start each notebook with a cell that explains what the notebook is for (select Markdown in drop menu at top) and a cell that imports useful python libraries e.g."
   ]
  },
  {
   "cell_type": "code",
   "execution_count": 35,
   "metadata": {},
   "outputs": [],
   "source": [
    "import numpy as np\n",
    "import scipy as sp\n",
    "import pylab as plt\n",
    "%matplotlib inline"
   ]
  },
  {
   "cell_type": "markdown",
   "metadata": {},
   "source": [
    "What does the above cell do? \n",
    "\n",
    "`%matplotlib inline` is a 'magic command' used when running Python within a Jupyter notebook. It allows the display of data plots within the notebook. "
   ]
  },
  {
   "cell_type": "markdown",
   "metadata": {},
   "source": [
    "#### <div class=\"warn\">Example </div>\n",
    "\n",
    "<div class=\"warn\">Make a cell print out Hello World.\n",
    "</div>"
   ]
  },
  {
   "cell_type": "code",
   "execution_count": 36,
   "metadata": {},
   "outputs": [
    {
     "name": "stdout",
     "output_type": "stream",
     "text": [
      "Hello World\n"
     ]
    }
   ],
   "source": [
    "print('Hello World')"
   ]
  },
  {
   "cell_type": "markdown",
   "metadata": {},
   "source": [
    "### Using Python as a calculator"
   ]
  },
  {
   "cell_type": "markdown",
   "metadata": {},
   "source": [
    "### Data arrays and lists"
   ]
  },
  {
   "cell_type": "markdown",
   "metadata": {},
   "source": [
    "### Importing data files"
   ]
  },
  {
   "cell_type": "markdown",
   "metadata": {},
   "source": [
    "Here's an example of reading in data to the notebook - note it must be in the same directory as the notebook or you will need to tell the notebook where to look for the file:"
   ]
  },
  {
   "cell_type": "code",
   "execution_count": null,
   "metadata": {},
   "outputs": [],
   "source": [
    "data = np.genfromtxt('DataAnalysis_testfile.dat')"
   ]
  },
  {
   "cell_type": "code",
   "execution_count": null,
   "metadata": {},
   "outputs": [],
   "source": [
    "# let's take a look at our data\n",
    "# print first column\n",
    "print('first column',data[:,0])\n",
    "#Print second row\n",
    "print('third row',data[2,:])\n"
   ]
  },
  {
   "cell_type": "code",
   "execution_count": null,
   "metadata": {},
   "outputs": [],
   "source": [
    "You might want to skip the first row if there are words there and the code above fails: \n",
    "\n",
    "data = np.genfromtxt('DataAnalysis_testfile.dat',skip_header=1)\n",
    "\n",
    "Sometimes you need to specify the delimiter in the data file (tab/space/comma), in this case it looks like:\n",
    "\n",
    "data = np.genfromtxt('DataAnalysis_testfile.dat',delimiter=' ')"
   ]
  },
  {
   "cell_type": "code",
   "execution_count": null,
   "metadata": {},
   "outputs": [],
   "source": [
    "Now if we have a header row in our data file and we want to know what the columns are, we can use: \n",
    "\n",
    "data = np.genfromtxt('DataAnalysis_testfile.dat',names=True)\n",
    "print(data.dtype.names) # this gives us our column names from the data file"
   ]
  },
  {
   "cell_type": "markdown",
   "metadata": {},
   "source": [
    "### Plotting data"
   ]
  },
  {
   "cell_type": "markdown",
   "metadata": {},
   "source": [
    "### Errobars"
   ]
  },
  {
   "cell_type": "markdown",
   "metadata": {},
   "source": [
    "### Equations and functions"
   ]
  },
  {
   "cell_type": "markdown",
   "metadata": {},
   "source": [
    "### Formatting numbers"
   ]
  },
  {
   "cell_type": "markdown",
   "metadata": {},
   "source": [
    "### Slicing data, getting subsets of data\n",
    "\n",
    "Some examples of slicing data samples where `a` is an array of data with length `len(a)` and has a starting data point `a[0]` and an end data point `a[len[a]-1]`.  We call the starting and ending data points `start` and `stop`.\n",
    "\n",
    "`a[start:stop]`  ----  items start through stop-1\n",
    "\n",
    "`a[start:] ` ---- items start through the rest of the array\n",
    "\n",
    "`a[:stop]`   ---- items from the beginning through stop-1\n",
    "\n",
    "`a[:]  `    ---- a copy of the whole array\n",
    "\n",
    "`a[start:stop:step]` ---- can have a step size to pull out say every 100 points from the array"
   ]
  },
  {
   "cell_type": "markdown",
   "metadata": {},
   "source": [
    "### Compare model and data"
   ]
  },
  {
   "cell_type": "markdown",
   "metadata": {},
   "source": [
    "***\n",
    "\n",
    "# Dont forget to save your notebook regularly"
   ]
  },
  {
   "cell_type": "markdown",
   "metadata": {},
   "source": [
    "# Don't forget to click run and run all!\n",
    "\n",
    "***"
   ]
  }
 ],
 "metadata": {
  "kernelspec": {
   "display_name": "Python 3",
   "language": "python",
   "name": "python3"
  },
  "language_info": {
   "codemirror_mode": {
    "name": "ipython",
    "version": 3
   },
   "file_extension": ".py",
   "mimetype": "text/x-python",
   "name": "python",
   "nbconvert_exporter": "python",
   "pygments_lexer": "ipython3",
   "version": "3.7.4"
  }
 },
 "nbformat": 4,
 "nbformat_minor": 2
}
