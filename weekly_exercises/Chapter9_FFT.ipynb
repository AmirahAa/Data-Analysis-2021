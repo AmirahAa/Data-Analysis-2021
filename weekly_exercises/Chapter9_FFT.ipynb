{
 "cells": [
  {
   "cell_type": "code",
   "execution_count": null,
   "metadata": {
    "collapsed": false
   },
   "outputs": [],
   "source": [
    "# this is some code to get pretty highlighted cells for the questions - ignore this\n",
    "from IPython.display import HTML\n",
    "style1 = \"<style>div.warn { background-color: #fcf2f2;border-color: #dFb5b4; border-left: 5px solid #dfb5b4; padding: 0.5em;}</style>\"\n",
    "HTML(style1)"
   ]
  },
  {
   "cell_type": "markdown",
   "metadata": {},
   "source": [
    "# Fast Fourier Transforms\n",
    "\n",
    "This notebook provides some worked examples of using FFTs\n"
   ]
  },
  {
   "cell_type": "markdown",
   "metadata": {},
   "source": [
    "## Generate and plot some data \n",
    "\n",
    "To start off, lets make a simulated data set consisting of a cos wave with unit amplitude and frequency 10Hz, sampled at 100 Hz for 1s. Then plot this as a function of time.\n",
    "\n",
    "We'll also sample the cos wave at a much higher rate (10000Hz) and plot it to show the smooth underlying function \n"
   ]
  },
  {
   "cell_type": "code",
   "execution_count": null,
   "metadata": {
    "collapsed": false,
    "scrolled": true
   },
   "outputs": [],
   "source": [
    "import pylab as plt\n",
    "import numpy as np\n",
    "%matplotlib inline\n",
    "\n",
    "T = 1.0 \n",
    "fsample = 100.0\n",
    "dT = 1.0/fsample\n",
    "N = T/dT \n",
    "n = np.arange(0,N)\n",
    "t = n*dT\n",
    "\n",
    "def signal(t) : \n",
    "    (f, a, phi)  = (10.0, 1.0, 0.0)\n",
    "    x = a*np.cos(2*np.pi*f*t+phi) \n",
    "    return x \n",
    "\n",
    "x = signal(t) \n",
    "plt.plot(t,x,'o') \n",
    "\n",
    "fsample1 = 10000.0 \n",
    "dT1 = 1.0/fsample1\n",
    "N1 = T/dT1 \n",
    "n1 = np.arange(0,N1)\n",
    "t1 = n1*dT1\n",
    "x1 = signal(t1) \n",
    "plt.plot(t1,x1,'-') \n",
    "plt.xlabel('time/s')\n",
    "plt.ylabel('x(t)')\n"
   ]
  },
  {
   "cell_type": "markdown",
   "metadata": {},
   "source": [
    "Try changing the frequency `f` to 90Hz.  Note that the samples taken at 100Hz look like a cosine with frequency 10Hz. \n",
    "You will need to change the xrange of the plot using `xlim` to see this more clearly. Try the same with a sine wave and note any differences."
   ]
  },
  {
   "cell_type": "code",
   "execution_count": null,
   "metadata": {
    "collapsed": true
   },
   "outputs": [],
   "source": []
  },
  {
   "cell_type": "markdown",
   "metadata": {},
   "source": [
    "## Calculate the power spectrum \n",
    "\n",
    "Now change back to the 10Hz signal and use the numpy `fft` routine to calculate the Fourier transform of the 100 Hz data and plot the power spectrum - ie the $|amplitude|^2$ ot the Fourier coefficients as a function of frequency. \n",
    "\n",
    "Also make a second plot showing the the real and imaginary parts of the fourier coefficients. \n",
    "\n",
    "Note that the range of frequencies runs from 0 to $f_{sample}$ and the fourier amplitudes are symmetrical about $f_{sample}/2$. \n"
   ]
  },
  {
   "cell_type": "code",
   "execution_count": null,
   "metadata": {
    "collapsed": false
   },
   "outputs": [],
   "source": [
    "T = 1.0 \n",
    "fsample = 100.0\n",
    "dT = 1.0/fsample\n",
    "N = T/dT \n",
    "n = np.arange(0,N)\n",
    "t = n*dT\n",
    "\n",
    "def signal(t) : \n",
    "    (f, a, phi)  = (10.0, 1.0, 0.0)\n",
    "    x = a*np.cos(2*np.pi*f*t+phi) \n",
    "    return x \n",
    "\n",
    "x = signal(t) \n",
    "\n",
    "# Fourier transform\n",
    "X = 1./N*np.fft.fft(x) \n",
    "# Fourier amplitudes \n",
    "Asquared = np.abs(X)**2\n",
    "# Fourier frequencies \n",
    "f = n/T \n",
    "\n",
    "plt.plot(f,Asquared,'.')\n",
    "plt.xlabel('frequency / Hz')\n",
    "plt.ylabel('Fourier Amplitude')\n",
    "plt.figure()\n",
    "plt.plot(f,np.real(X),'+')\n",
    "plt.plot(f,np.imag(X),'x')\n",
    "plt.xlabel('frequency / Hz')\n",
    "plt.ylabel('Real and Imaginary parts')\n",
    "plt.legend(['real', 'imaginary'])\n"
   ]
  },
  {
   "cell_type": "markdown",
   "metadata": {},
   "source": [
    "Next we can use the numpy `fftshift` routine to convert the fft array to represent frequencies ranging from $-f_{sample}/2$ to $+f_{sample}/2$"
   ]
  },
  {
   "cell_type": "code",
   "execution_count": null,
   "metadata": {
    "collapsed": false
   },
   "outputs": [],
   "source": [
    "T = 1.0 \n",
    "fsample = 100.0\n",
    "dT = 1.0/fsample\n",
    "N = T/dT \n",
    "n = np.arange(0,N)\n",
    "t = n*dT\n",
    "\n",
    "def signal(t) : \n",
    "    (f, a, phi)  = (10.0, 1.0, 0.0)\n",
    "    x = a*np.cos(2*np.pi*f*t+phi) \n",
    "    return x \n",
    "\n",
    "x = signal(t) \n",
    "\n",
    "X = 1./N*np.fft.fft(x) \n",
    "f = n/T\n",
    "\n",
    "Xs = np.fft.fftshift(X)\n",
    "fs = f-N/2 \n",
    "\n",
    "plt.plot(fs,np.abs(Xs),'.')\n",
    "plt.xlabel('frequency / Hz')\n",
    "plt.ylabel('Fourier Amplitude')\n",
    "\n",
    "plt.figure()\n",
    "plt.plot(fs,np.real(Xs),'+')\n",
    "plt.plot(fs,np.imag(Xs),'x')\n",
    "\n",
    "plt.xlabel('frequency / Hz')\n",
    "plt.ylabel('Real and Imaginary parts')\n",
    "plt.legend(['real', 'imaginary'])\n"
   ]
  },
  {
   "cell_type": "markdown",
   "metadata": {},
   "source": [
    "Now we can set the plot limits to show only frequencies from -20 to +20Hz, and change the amplitude phase of the signal to see how the Fourier coefficients change. In the code cell, try changing `a`, `phi` and `f` and look at how this affects the power spectrum. You could also add components to the signal with different frequencies and amplitudes. \n"
   ]
  },
  {
   "cell_type": "code",
   "execution_count": null,
   "metadata": {
    "collapsed": true
   },
   "outputs": [],
   "source": []
  },
  {
   "cell_type": "markdown",
   "metadata": {},
   "source": [
    "## Gaussian noise \n",
    "\n",
    "Add Gaussian noise with standard deviation of 0.4 to each data point and look at the power spectrum. The noise is uniformaly distributed as a function of frequency - it is 'white' noise. Notice that the signal is detected very clearly above the noise in Fourier space, but the signal not at all visible in real space. "
   ]
  },
  {
   "cell_type": "code",
   "execution_count": null,
   "metadata": {
    "collapsed": false
   },
   "outputs": [],
   "source": [
    "T = 1.0 \n",
    "fsample = 100.0\n",
    "dT = 1.0/fsample\n",
    "N = T/dT \n",
    "n = np.arange(0,N)\n",
    "t = n*dT\n",
    "\n",
    "def signal(t) : \n",
    "    (f, a, phi)  = (15.0, 1.0, 0.0)\n",
    "    noise = np.random.normal(0,0.4,t.shape)\n",
    "    x = a*np.cos(2*np.pi*f*t+phi) + noise \n",
    "    return x \n",
    "\n",
    "x = signal(t) \n",
    "\n",
    "plt.plot(t,x,'.') \n",
    "plt.xlabel('time/s')\n",
    "plt.ylabel('x(t)')\n",
    "\n",
    "X = 1./N*np.fft.fft(x) \n",
    "f = n/T\n",
    "Xs = np.fft.fftshift(X)\n",
    "fs = f- N/2\n",
    "plt.figure()\n",
    "plt.plot(fs,np.abs(Xs)**2,'.')\n",
    "\n",
    "plt.xlabel('frequency / Hz')\n",
    "plt.ylabel('Fourier Amplitude')\n",
    "\n",
    "plt.figure()\n",
    "plt.plot(fs,np.real(Xs),'+')\n",
    "plt.plot(fs,np.imag(Xs),'x')\n",
    "plt.xlabel('frequency / Hz')\n",
    "plt.ylabel('Real and Imaginary parts')\n",
    "plt.legend(['real', 'imaginary'])\n"
   ]
  },
  {
   "cell_type": "markdown",
   "metadata": {},
   "source": [
    "Now it's your turn to use FFTs to tell the difference between wine and vinegar\n",
    "\n",
    "## Wine or vinegar? \n",
    "\n",
    "When a bottle of wine is placed in a magnet, the nuclei of any hydrogen atoms in the molecules making up the wine can be made to emit very weak (magnetic) signals. Each nucleus gives out a signal at a characteristic frequency. If a molecule contains more than one hydrogen atom, the observed signal will have more than one frequency component. The Fourier transform of the signal therefore gives a spectrum which helps identify the molecules making up the wine. This technique of identifying the chemical composition of a liquid is known as nuclear magnetic resonance (NMR) spectroscopy.\n",
    "\n",
    "In particular, it is known that the NMR signal from a bottle of good wine has a spectrum with 3 lines in it, whereas a bottle of bad wine will have 4 lines, the extra line coming from acetic acid, i.e., vinegar (April J. Weekley, Paul Bruins, and Matthew P. Augustine, Nondestructive method of determining acetic acid spoilage in an unopened bottle of wine. Am. J. Enol. Vitic., 53(4):318-321, 2002.)\n",
    "\n",
    "The file nmr_data.txt contains measurements of a 50 ms duration NMR signal from an unopened bottle of wine, and can be downloaded from the webCT pages. The signal is quite noisy, and it is far from obvious what frequencies make up the signal. The aim of this question is to use matlab to read in this signal, determine what the component frequencies are, and therefore decide whether the wine is ok to drink.\n",
    "\n",
    "1) Read in the signal data and plot the signal versus time in ms. Assume that the signal is sampled at a constant rate and covers exactly 50ms.\n"
   ]
  },
  {
   "cell_type": "markdown",
   "metadata": {},
   "source": [
    "2) Calculate the FFT of the signal, and plot the power spectrum against frequency $f$. "
   ]
  },
  {
   "cell_type": "markdown",
   "metadata": {},
   "source": [
    "3) Use the fftshift command to put the zero frequencies in the centre of the spectrum, and plot the new version of the spectrum against the new set of frequencies. It is probably clear to use `semilogy` to make the plot using a log-scale for the y axis. "
   ]
  },
  {
   "cell_type": "markdown",
   "metadata": {},
   "source": [
    "4) What values of frequency do the peaks occur? Is the wine drinkable?"
   ]
  },
  {
   "cell_type": "code",
   "execution_count": null,
   "metadata": {
    "collapsed": true
   },
   "outputs": [],
   "source": []
  }
 ],
 "metadata": {
  "kernelspec": {
   "display_name": "Python 2",
   "language": "python",
   "name": "python2"
  },
  "language_info": {
   "codemirror_mode": {
    "name": "ipython",
    "version": 2
   },
   "file_extension": ".py",
   "mimetype": "text/x-python",
   "name": "python",
   "nbconvert_exporter": "python",
   "pygments_lexer": "ipython2",
   "version": "2.7.13"
  }
 },
 "nbformat": 4,
 "nbformat_minor": 2
}
