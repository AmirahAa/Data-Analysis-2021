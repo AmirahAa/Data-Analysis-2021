{
 "cells": [
  {
   "cell_type": "markdown",
   "metadata": {
    "collapsed": true
   },
   "source": [
    "KS Test for lecture"
   ]
  },
  {
   "cell_type": "code",
   "execution_count": null,
   "metadata": {
    "collapsed": true
   },
   "outputs": [],
   "source": [
    "import numpy as np\n",
    "import pylab as plt\n",
    "%matplotlib inline\n",
    "\n",
    "treatment_B=[1.26, 0.34, 0.70, 1.75, 50.57, 1.55, 0.08, \\\n",
    "   0.42, 0.50, 3.20, 0.15, 0.49, 0.95, 0.24, 1.37, \\\n",
    "   0.17, 6.98, 0.10, 0.94, 0.38]   \n",
    "\n",
    "control_B= [2.37, 2.16, 14.82, 1.73, 41.04, \\\n",
    "              0.23, 1.32, 2.91, 39.41, 0.11, 27.44,\\\n",
    "              4.51, 0.51, 4.50, 0.18, 14.68, 4.66, 1.30, 2.06, 1.19]"
   ]
  },
  {
   "cell_type": "code",
   "execution_count": null,
   "metadata": {
    "collapsed": true
   },
   "outputs": [],
   "source": [
    "from scipy.stats import ks_2samp"
   ]
  },
  {
   "cell_type": "code",
   "execution_count": 54,
   "metadata": {},
   "outputs": [
    {
     "data": {
      "text/plain": [
       "Ks_2sampResult(statistic=0.45000000000000007, pvalue=0.02321327585444955)"
      ]
     },
     "execution_count": 54,
     "metadata": {},
     "output_type": "execute_result"
    }
   ],
   "source": [
    "\n",
    "from scipy.stats import ks_2samp\n",
    "ks_2samp(treatment_B,control_B)\n",
    "\n",
    "print('mean are {:.3f} and {:.3f}'.format(np.mean(control_B),(np.mean(treatment_B))))\n",
    "print('std are {:.3f} and {:.3f}'.format(np.std(control_B,ddof=1),(np.std(treatment_B,ddof=1))))"
   ]
  },
  {
   "cell_type": "code",
   "execution_count": 58,
   "metadata": {},
   "outputs": [
    {
     "name": "stdout",
     "output_type": "stream",
     "text": [
      "mean are 8.357 and 3.607\n",
      "std are 12.819 and 11.165\n"
     ]
    }
   ],
   "source": []
  },
  {
   "cell_type": "code",
   "execution_count": null,
   "metadata": {
    "collapsed": true
   },
   "outputs": [],
   "source": [
    "#make a function to plot the cumulative distribution function for the sample\n",
    "def cdf(x):\n",
    "    xs = np.sort(x)\n",
    "    # this basically makes a cumulative distribution function\n",
    "    ys = np.arange(1, len(xs)+1)/float(len(xs))\n",
    "    return xs, ys"
   ]
  },
  {
   "cell_type": "code",
   "execution_count": 60,
   "metadata": {
    "collapsed": true
   },
   "outputs": [],
   "source": [
    "\n",
    "#make a function to plot the cumulative distribution function for the sample\n",
    "def cdf(x):\n",
    "    xs = np.sort(x)\n",
    "    # this basically makes a cumulative distribution function\n",
    "    ys = np.arange(1, len(xs)+1)/float(len(xs))\n",
    "    return xs, ys\n",
    "\n",
    "c_t,c_cdf = cdf(control_B)\n",
    "t_t,t_cdf = cdf(treatment_B)\n",
    "\n",
    "plt.semilogx(c_t,c_cdf,label='control')\n",
    "plt.semilogx(t_t,t_cdf,label='treatment')\n",
    "\n",
    "plt.xlim(0.1,100)\n",
    "plt.ylim(0.1,1)\n",
    "plt.legend()\n",
    "plt.ylabel('CDF')\n",
    "plt.xlabel('recovery time')"
   ]
  },
  {
   "cell_type": "code",
   "execution_count": 63,
   "metadata": {},
   "outputs": [
    {
     "data": {
      "text/plain": [
       "Text(0.5, 0, 'recovery time')"
      ]
     },
     "execution_count": 63,
     "metadata": {},
     "output_type": "execute_result"
    },
    {
     "data": {
      "image/png": "[encoded data removed]",
      "text/plain": [
       "<Figure size 432x288 with 1 Axes>"
      ]
     },
     "metadata": {
      "needs_background": "light"
     },
     "output_type": "display_data"
    }
   ],
   "source": []
  }
 ],
 "metadata": {
  "kernelspec": {
   "display_name": "Python 3",
   "language": "python",
   "name": "python3"
  },
  "language_info": {
   "codemirror_mode": {
    "name": "ipython",
    "version": 3
   },
   "file_extension": ".py",
   "mimetype": "text/x-python",
   "name": "python",
   "nbconvert_exporter": "python",
   "pygments_lexer": "ipython3",
   "version": "3.7.4"
  }
 },
 "nbformat": 4,
 "nbformat_minor": 2
}
