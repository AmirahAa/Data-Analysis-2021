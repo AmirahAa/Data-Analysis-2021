{
 "cells": [
  {
   "cell_type": "markdown",
   "metadata": {},
   "source": [
    "# Fitting models to Data"
   ]
  },
  {
   "cell_type": "markdown",
   "metadata": {},
   "source": [
    "Please ensure you have watched the Chapter 8 video(s)."
   ]
  },
  {
   "cell_type": "markdown",
   "metadata": {},
   "source": [
    "## You will learn the following things in this Chapter\n",
    "\n",
    "\n",
    "- How to use Python programming to do the above.\n",
    "- After completing this notebook you will be able to start CA 2."
   ]
  },
  {
   "cell_type": "markdown",
   "metadata": {},
   "source": [
    "***"
   ]
  },
  {
   "cell_type": "markdown",
   "metadata": {},
   "source": [
    "# Fitting straight line models to data - linear regression"
   ]
  },
  {
   "cell_type": "markdown",
   "metadata": {},
   "source": [
    "To fit a straight line to the data we want to express the fit as a linear relation in the form of $y = A + Bx$ where $A$ is the y-intercept and $B$ is the gradient ie the true value of $y_i$ is given by \n",
    "\n",
    "$y_i = A+Bx_i$\n",
    "\n",
    "\n",
    "**Homoscedastic errors**\n",
    "\n",
    "So now we need to assume that the errors associated with $x$ are also normally distributed. Consequently, we can express the probability of obtaining a measurement of $y_i$ as:\n",
    "\n",
    "$p_{A,B}(y_i) \\propto \\dfrac{1}{\\sigma_y} {\\rm exp}\\left( -\\dfrac{(y_i-A-Bx_i)^2}{2\\sigma_y^2}   \\right)$\n",
    "\n",
    "If each $y_i$ at each $x_i$ is drawn randomly, the probability of getting the entire observed data set is\n",
    "\n",
    "$p_{A,B}(y_1,y_2,...y_N)\\propto \\dfrac{1}{\\sigma_y^N} {\\rm exp}\\left( -\\dfrac{\\chi^2}{2}   \\right)$\n",
    "\n",
    "We are trying to maximise the probability of the observed data set then the exponential term must be minimised so $\\chi^2$ (chi-squared) will equal zero. The equation for chi-squared is \n",
    "\n",
    "$\\chi^2 = \\sum^N_{i=1} \\dfrac{(y_i-A-Bx_i)^2}{\\sigma_y^2}$\n",
    "\n",
    "Need to differentiate the above equation and set equal to zero:\n",
    "\n",
    "$ \\dfrac{\\partial \\chi^2 }{\\partial A} = \\dfrac{-2}{\\sigma_y^2} \\sum^N_{i=1} (y_i -A-Bx_i) = 0$\n",
    "\n",
    "$ \\dfrac{\\partial \\chi^2 }{\\partial B} = \\dfrac{-2}{\\sigma_y^2}x_i \\sum^N_{i=1} (y_i -A-Bx_i) = 0$\n",
    "\n",
    "These can be solved and result in the following set of equations (for homoscedastic case) for the best fit parameters are (these are given in the lecture notes)\n",
    "\n",
    "$A = \\dfrac{\\sum x^2 \\sum y - \\sum x \\sum xy} {N\\sum x^2 - (\\sum x)^2}$\n",
    "\n",
    "$B = \\dfrac{N \\sum xy - \\sum x \\sum y} {N\\sum x^2 - (\\sum x)^2}$\n",
    "\n",
    "We can derive these by minimising the chi-squared and maximise of probability of getting the data set observed.\n",
    "\n",
    "We know that $y_i$ are distributed about some true value with spread $\\sigma_y$ but the equations for $A$ and $B$ don't actually depend on this!  But we can estimate the value of $\\sigma_y$ given that true values of $y_i$ should depend on $A$ and $B$. \n",
    "\n",
    "For errors in $A$ and $B$ we need to use the standard deviation of the $y$ data:\n",
    "\n",
    "$\\sigma_y = \\sqrt{ \\dfrac{1}{N} \\sum^N_{i-1} (y_i - A-Bx_i)^2 }$\n",
    "\n",
    "Error propogation results in the following equations for $A$ and $B$:\n",
    "\n",
    "$\\sigma_A = \\sigma_y   \\sqrt{ \\dfrac{\\sum x^2}{N\\sum x^2 - (\\sum x)^2}  }$\n",
    "\n",
    "$\\sigma_B = \\sigma_y   \\sqrt{ \\dfrac{N}{N\\sum x^2 - (\\sum x)^2}  }$\n",
    "\n",
    "\n",
    "**Heteroscedastic errors with a linear fit**\n",
    "\n",
    "Weight the probabilities by the errors where $w = 1/\\sigma^2$\n",
    "\n",
    "$A = \\dfrac{\\sum wx^2 \\sum wy - \\sum wx \\sum wxy }{\\sum w \\sum wx^2 - (\\sum wx)^2}$\n",
    "\n",
    "$B = \\dfrac{\\sum w \\sum wxy - \\sum wx \\sum wy }{\\sum w \\sum wx^2 - (\\sum wx)^2}$"
   ]
  },
  {
   "cell_type": "markdown",
   "metadata": {},
   "source": [
    "### <font color=#4290C4>Example</font>\n",
    "\n",
    "Netflix managers poll their subscribers to see how the fraction of users that watched She-Ra in October 2019 $x$ compares with the age of the viewer $y$ before they decide to commission a new series of the show. This data is available at this [link](https://github.com/haleygomez/Data-Analysis-2021/blob/master/blended_exercises/Chapter%208/DataAnalysis_datafile1.dat) and is called DataAnalysis_datafile1.dat. \n",
    "\n",
    "1. Write functions from scratch to fit a straight line to the data quoting all the fit parameters and their errors.  \n",
    "\n",
    "2. Comment on the goodness of the fit and the uncertainties."
   ]
  },
  {
   "cell_type": "markdown",
   "metadata": {},
   "source": [
    "###  <font color=#c38241> Solution</font>\n",
    "\n",
    "Click below to see the solution."
   ]
  },
  {
   "cell_type": "markdown",
   "metadata": {},
   "source": [
    "This questions involves fitting a straight line to set of points with homoscedastic errors on $y$. \n",
    "\n",
    "Since the errors are homoscedastic, the scatter around the line should be notably larger than the $\\sigma = 1.6$ that one might expect. \n",
    "\n",
    "Let's open the datafile and take a look"
   ]
  },
  {
   "cell_type": "code",
   "execution_count": 25,
   "metadata": {},
   "outputs": [
    {
     "name": "stdout",
     "output_type": "stream",
     "text": [
      "('x', 'y', 'sigma_y_estimate')\n"
     ]
    },
    {
     "data": {
      "text/plain": [
       "Text(0, 0.5, 'y')"
      ]
     },
     "execution_count": 25,
     "metadata": {},
     "output_type": "execute_result"
    },
    {
     "data": {
      "image/png": "[encoded data removed]",
      "text/plain": [
       "<Figure size 432x288 with 1 Axes>"
      ]
     },
     "metadata": {
      "needs_background": "light"
     },
     "output_type": "display_data"
    }
   ],
   "source": [
    "import numpy as np\n",
    "data = np.genfromtxt('DataAnalysis_datafile_1.dat',names=True)\n",
    "\n",
    "# print out the columns to see what's in the file\n",
    "print(data.dtype.names)\n",
    "\n",
    "import numpy as np\n",
    "import pylab as plt \n",
    "\n",
    "%matplotlib inline  \n",
    "\n",
    "data = np.genfromtxt('DataAnalysis_datafile_1.dat',names=True)\n",
    "\n",
    "plt.errorbar(data['x'],data['y'],yerr=data['sigma_y_estimate'],fmt='o')\n",
    "plt.xlabel('x')\n",
    "plt.ylabel('y')"
   ]
  },
  {
   "cell_type": "markdown",
   "metadata": {},
   "source": [
    "The scatter in the data is clearly much larger than the errors in $y$ quoted!  Note though, to orthogonalise the model we need to either use the above equations and **quote the covariance** or use:\n",
    "\n",
    "$y = A+B(x_i-\\hat{x})$\n",
    "\n",
    "throughout, where $\\hat{x}$ is the mean.  Here we will show the 1st option.\n",
    "\n",
    "The errors are homoscedastic since the errors on y are all the same."
   ]
  },
  {
   "cell_type": "code",
   "execution_count": 30,
   "metadata": {},
   "outputs": [
    {
     "name": "stdout",
     "output_type": "stream",
     "text": [
      "Best fit line equation paramaters: A = 19.76 age in years and B= 3.97 age in years/fraction\n"
     ]
    }
   ],
   "source": [
    "# functions to estimate A and B based on notes and equations above\n",
    "def best_fit_a(x,y,N):\n",
    "    result = (np.sum(x**2.)*np.sum(y) - np.sum(x)*np.sum(x*y))/ ((N*np.sum(x**2.)) - (np.sum(x))**2. )\n",
    "    return result\n",
    "\n",
    "def best_fit_b(x,y,N):\n",
    "    result = ((N*np.sum(x*y))- (np.sum(x)*np.sum(y))) / ((N*np.sum(x**2.)) - (np.sum(x))**2. )\n",
    "    return result\n",
    "\n",
    "A = best_fit_a(data['x'],data['y'],len(data['x']))\n",
    "B = best_fit_b(data['x'],data['y'],len(data['x']))\n",
    "\n",
    "print('Best fit line equation paramaters: A = {:.2f} age in years'.format(A),'and B= {:.2f} age in years/fraction'.format(B))"
   ]
  },
  {
   "cell_type": "code",
   "execution_count": 31,
   "metadata": {},
   "outputs": [
    {
     "data": {
      "text/plain": [
       "Text(0, 0.5, 'y')"
      ]
     },
     "execution_count": 31,
     "metadata": {},
     "output_type": "execute_result"
    },
    {
     "data": {
      "image/png": "[encoded data removed]",
      "text/plain": [
       "<Figure size 432x288 with 1 Axes>"
      ]
     },
     "metadata": {
      "needs_background": "light"
     },
     "output_type": "display_data"
    }
   ],
   "source": [
    "# to plot the straightline\n",
    "def straightline(a,b,x):\n",
    "    result = a + b*(x)\n",
    "    return result\n",
    "\n",
    "x = np.linspace(0,1,100)\n",
    "fit = straightline(A,B,x)\n",
    "\n",
    "plt.errorbar(data['x'],data['y'],yerr=data['sigma_y_estimate'],fmt='o')\n",
    "plt.plot(x,fit,lw=2)\n",
    "plt.xlabel('x')\n",
    "plt.ylabel('y')"
   ]
  },
  {
   "cell_type": "markdown",
   "metadata": {},
   "source": [
    "For errors in $A$ and $B$ we need to use the standard deviation of the $y$ data:\n",
    "\n",
    "$\\sigma_y = \\sqrt{ \\dfrac{1}{N} \\sum^N_{i-1} (y_i - A-Bx_i)^2 }$\n",
    "\n",
    "where here $N$ is the *number of degrees of freedom* ie in this case $N={\\rm number~of~data~ points}-2$. The $N-2$ appears because we already need to know $A$ and $B$ to work out $\\sigma_y$.\n",
    "\n",
    "We need to do this because the errors on the fit depends not just on the error bars in $y$ but also on the fit itself, and by using the above equation we can estimate the true error in $y$ (which should be larger than then 1.6 errors given to the students for each datapoint).  "
   ]
  },
  {
   "cell_type": "code",
   "execution_count": 32,
   "metadata": {},
   "outputs": [
    {
     "name": "stdout",
     "output_type": "stream",
     "text": [
      "The error in y (sigma_y) from our best fit line is 3.61.\n"
     ]
    }
   ],
   "source": [
    "# let's estimate sigma_y using our A+B values\n",
    "\n",
    "def sigma(N,A,B,x,y):\n",
    "    sigma = np.sqrt( (1./(N-2))* np.sum((y - A - B*x)**2.0)  )\n",
    "    return sigma\n",
    "\n",
    "N=len(data['x'])\n",
    "x= data['x']\n",
    "y= data['y']\n",
    "\n",
    "sigma_y = sigma(N,A,B,x,y)\n",
    "\n",
    "print('The error in y (sigma_y) from our best fit line is {:.2f}.'.format(sigma_y))"
   ]
  },
  {
   "cell_type": "markdown",
   "metadata": {},
   "source": [
    "Thus the $\\sigma_y$ of the data is much larger than the 1.6 on each data point quoted in the original data file. \n",
    "\n",
    "Calculating $\\sigma_A$ and $\\sigma_B$:"
   ]
  },
  {
   "cell_type": "code",
   "execution_count": 33,
   "metadata": {},
   "outputs": [
    {
     "name": "stdout",
     "output_type": "stream",
     "text": [
      "A is 19.76 age in years with error 0.75\n",
      "B is 3.97 age in years/per fraction with error 1.19\n"
     ]
    }
   ],
   "source": [
    "def error_in_a(x,sig_y,N):\n",
    "    result = sig_y* np.sqrt( np.sum(x**2.) / ((N*np.sum(x**2.)) - (np.sum(x))**2.  )  )\n",
    "    return result\n",
    "\n",
    "def error_in_b(x,sig_y,N):\n",
    "    result = sig_y* np.sqrt( N / ((N*np.sum(x**2.)) - (np.sum(x))**2.  )  )\n",
    "    return result\n",
    "\n",
    "error_A = error_in_a(data['x'],sigma_y,len(data['x']))\n",
    "error_B = error_in_b(data['x'],sigma_y,len(data['x']))\n",
    "\n",
    "print('A is {:.2f} age in years'.format(A),'with error {:.2f}'.format(error_A))\n",
    "print('B is {:.2f} age in years/per fraction'.format(B),'with error {:.2f}'.format(error_B))"
   ]
  },
  {
   "cell_type": "markdown",
   "metadata": {},
   "source": [
    "Looking at the plot, it does not look like a good fit - indeed the straight line does not pass though many of the error bars on the data points. This suggests that either there are unaccounted sources of error or that the data is poorly modelled with a straight-line.\n",
    "\n",
    "What's the quality of the fit? We can use the equation from the notes for reduced $\\chi^2$ \n",
    "\n",
    "$\\bar{\\chi}^2 = \\dfrac{ \\chi^2 }{ N}$\n",
    "\n",
    "where $N$ is the number of degrees of freedom = $N_{\\rm data} - N_{\\rm params}$ which in this case is $100-2$ since we need $A$ and $B$ (which are not independent) and $\\sigma_y$ to determine $\\chi^2$. We would expect reduced $\\chi^2$ to equal close to 1 to denote a good fit."
   ]
  },
  {
   "cell_type": "code",
   "execution_count": 34,
   "metadata": {},
   "outputs": [
    {
     "name": "stdout",
     "output_type": "stream",
     "text": [
      "reduced chi-squared for sigma_y from data is 5.026 +/- 0.141\n",
      "reduced chi-squared for sigma_y=3.61 is 0.987 +/- 0.141\n"
     ]
    }
   ],
   "source": [
    "def eqn(a,b,z):\n",
    "    return a + b*z\n",
    "\n",
    "def chi_sq(y,x,sig_y,a,b):\n",
    "    result = np.sum(  (y - a-b*data['x'])**2. /sig_y**2. )\n",
    "    return result\n",
    "\n",
    "sig_y = 1.6 # quoted as error in the data\n",
    "red_chi_sq  = chi_sq(data['y'],data['x'],sig_y,A,B)  / (len(data['x']) - 1) # need to calculate A+B\n",
    "\n",
    "print('reduced chi-squared for sigma_y from data is {:.3f} +/- {:.3f}'.\\\n",
    "      format(red_chi_sq,np.sqrt(2/len(data['x']))))\n",
    "\n",
    "#but real sig_y  =3.61\n",
    "sig_y = 3.61 # quoted as error in the data\n",
    "red_chi_sq  = chi_sq(data['y'],data['x'],sig_y,A,B)  / (len(data['x']) - 1) \n",
    "# need to calculate A+B\n",
    "\n",
    "print('reduced chi-squared for sigma_y=3.61 is {:.3f} +/- {:.3f}'.\\\n",
    "      format(red_chi_sq,np.sqrt(2/len(data['x']))))\n"
   ]
  },
  {
   "cell_type": "markdown",
   "metadata": {},
   "source": [
    "So this is not a good fit if we take the error in $y$ from the original data, but the fit vs model is better when accounting for the larger error in $y$ compared to the true fit $\\sigma_y$. But this is simply because the error is so large the model can be seen as an ok fit\n",
    "\n",
    "One can also try the Spearman rank correlation to see if a straight line fit is appropriate:"
   ]
  },
  {
   "cell_type": "code",
   "execution_count": 35,
   "metadata": {},
   "outputs": [
    {
     "name": "stdout",
     "output_type": "stream",
     "text": [
      "the Spearman rank statistic is 0.37\n"
     ]
    }
   ],
   "source": [
    "from scipy.stats import rankdata\n",
    "# let's rank the data\n",
    "r_x = rankdata(data['x'])\n",
    "r_y = rankdata(data['y'])\n",
    "\n",
    "# need to set up equation in notes\n",
    "def rho_s(rank_x,rank_y,N):\n",
    "    top = np.sum(rank_x*rank_y) - (N*(N+1)**2./4)\n",
    "    bottom_1 = np.sqrt( np.sum(rank_x**2.) - (N*(N+1)**2./4)   )  \n",
    "    bottom_2 = np.sqrt( np.sum(rank_y**2.) - (N*(N+1)**2./4)   )\n",
    "    rho = top / (bottom_1*bottom_2)\n",
    "    return rho\n",
    "\n",
    "spearman = rho_s(r_x,r_y,len(data['x']))\n",
    "\n",
    "print('the Spearman rank statistic is {:.2f}'.format(spearman))"
   ]
  },
  {
   "cell_type": "markdown",
   "metadata": {},
   "source": [
    "Thus a linear relationship between the two does not make a good model for this data since the Spearman rank statistic is less than 0.6.   As the model chosen to fit the data is flawed the error on the fit parameters found from the equations above are in fact too small and does not accurately reflect the uncertainty in the $A$ and $B$ values given the quality of the fit. \n",
    "\n",
    "We did all of the above by hand to make sure we could work through the mathematics, but we can also simply use Python to make things easier and quicker.  For example, we could fit a straight line using the functions `poly1d` or `curve_fit`. "
   ]
  },
  {
   "cell_type": "code",
   "execution_count": 66,
   "metadata": {},
   "outputs": [
    {
     "name": "stdout",
     "output_type": "stream",
     "text": [
      "Fit parameters A and B are 19.764 and 3.967\n",
      "\n",
      "covariance matrix [[ 0.10966227 -0.15270869]\n",
      " [-0.15270869  0.27741274]]\n"
     ]
    },
    {
     "data": {
      "text/plain": [
       "[<matplotlib.lines.Line2D at 0x1a213cd510>]"
      ]
     },
     "execution_count": 66,
     "metadata": {},
     "output_type": "execute_result"
    },
    {
     "data": {
      "image/png": "[encoded data removed]",
      "text/plain": [
       "<Figure size 432x288 with 1 Axes>"
      ]
     },
     "metadata": {
      "needs_background": "light"
     },
     "output_type": "display_data"
    }
   ],
   "source": [
    "# this is a function that we think may explain the data\n",
    "def straightline_func(x,a,b):\n",
    "    return a + b*x\n",
    "\n",
    "data['x'],data['y']\n",
    "\n",
    "params, params_covariance = optimize.curve_fit(straightline_func, data['x'],data['y'],\\\n",
    "                                               sigma=data['sigma_y_estimate'],absolute_sigma=True)\n",
    "\n",
    "print('Fit parameters A and B are {:.3f} and {:.3f}'.format(params[0],params[1]))\n",
    "print()\n",
    "print('covariance matrix',params_covariance)\n",
    "\n",
    "# plot the data\n",
    "plt.errorbar(data['x'],data['y'],yerr=data['sigma_y_estimate'],fmt='o',label='data')\n",
    "plt.xlabel('time (days')\n",
    "plt.ylabel('brightness of star')\n",
    "\n",
    "# plot the fit\n",
    "plt.plot(data['x'],straightline_func(data['x'],params[0],params[1]),lw=2,label='best fit')"
   ]
  },
  {
   "cell_type": "code",
   "execution_count": 70,
   "metadata": {},
   "outputs": [
    {
     "name": "stdout",
     "output_type": "stream",
     "text": [
      "Best fit line equation paramaters by hand: A = 19.76 age in years and B= 3.97 age in years/fraction\n",
      "Best fit line equation paramaters using functions: A = 19.76 age in years and B= 3.97 age in years/fraction\n"
     ]
    }
   ],
   "source": [
    "# by hand\n",
    "print('Best fit line equation paramaters by hand: A = {:.2f} age in years'.format(A),\\\n",
    "          'and B= {:.2f} age in years/fraction'.format(B))\n",
    "\n",
    "# using Python's curve fit\n",
    "\n",
    "print('Best fit line equation paramaters using functions: A = {:.2f} age in years'.format(params[0]),'and B= {:.2f} age in years/fraction'.format(params[1]))\n",
    "\n"
   ]
  },
  {
   "cell_type": "markdown",
   "metadata": {},
   "source": [
    "***"
   ]
  },
  {
   "cell_type": "markdown",
   "metadata": {},
   "source": [
    "## Monte Carlo Fitting"
   ]
  },
  {
   "cell_type": "markdown",
   "metadata": {},
   "source": [
    "Suppose we have good reason to think that nature generates values of some physical quantity  $y$  in a way that depends on some other physical quantity  $x$, in the manner of some model, let's say: $y(x)=Ax+B$\n",
    " \n",
    "We would like to find out the values $y$ and ranges of $A$ and $B$ by taking a number of measurements of $y(x)$ to trace the relationship. Suppose also that there is some uncertainty in each of the measurements. \n",
    "\n",
    "To explore how our measurements might behave, we can simulate a large number of hypothetical experiments by using Monte Carlo methods and assess the range of parameters returned from these simulated or \"fake\" experiments.\n",
    "\n",
    "We can approach this by simulating how much each measured $y_i$ we've generated, deviates from the \"true\" value $g_i$ which our model (in the example above, the straight line) predicts."
   ]
  },
  {
   "cell_type": "markdown",
   "metadata": {},
   "source": [
    "### <font color=#4290C4>Example</font>\n",
    "\n",
    "Use the Monte Carlo method to generate random data from the Netflix data in DataAnalysis_datafile1.dat, and derive new (straight line) fit parameters $A$ and $B$ from this."
   ]
  },
  {
   "cell_type": "markdown",
   "metadata": {},
   "source": [
    "###  <font color=#c38241> Solution</font>\n",
    "\n",
    "Click below to see the solution."
   ]
  },
  {
   "cell_type": "code",
   "execution_count": 36,
   "metadata": {},
   "outputs": [
    {
     "name": "stdout",
     "output_type": "stream",
     "text": [
      "Best fit line equation paramaters from earlier: A = 19.76 age in years and B= 3.97 age in years/fraction\n",
      "Best fit line equation paramaters from MC: A = 19.75 age in years and B= 3.97 age in years/fraction\n"
     ]
    },
    {
     "data": {
      "text/plain": [
       "<matplotlib.legend.Legend at 0x1a1da78890>"
      ]
     },
     "execution_count": 36,
     "metadata": {},
     "output_type": "execute_result"
    },
    {
     "data": {
      "image/png": "[encoded data removed]",
      "text/plain": [
       "<Figure size 432x288 with 1 Axes>"
      ]
     },
     "metadata": {
      "needs_background": "light"
     },
     "output_type": "display_data"
    }
   ],
   "source": [
    "# generate n sets of data from the datafile by adding gaussian noise within error\n",
    "n_sample = 1000 \n",
    "n = len(data['x'])\n",
    "\n",
    "new_y =np.zeros([n,n_sample])\n",
    "new_x =np.zeros([n,n_sample])\n",
    "\n",
    "for i in range(n_sample):\n",
    "    new_y[:,i] = np.random.normal(data['y'],data['sigma_y_estimate']) \n",
    "    new_x[:,i] =  data['x']\n",
    "    \n",
    "A_mc = np.zeros(n_sample)\n",
    "B_mc = np.zeros(n_sample)\n",
    "\n",
    "# fit a line to each set of data\n",
    "for j in range(n_sample):\n",
    "    A_mc[j] = best_fit_a(new_x[:,j],new_y[:,j],n)\n",
    "    B_mc[j] = best_fit_b(new_x[:,j],new_y[:,j],n)  \n",
    "\n",
    "# get average values of A and B from all the samples\n",
    "mean_A_mc = np.mean(A_mc)\n",
    "mean_B_mc = np.mean(B_mc)\n",
    "\n",
    "print('Best fit line equation paramaters from earlier: A = {:.2f} age in years'.format(A),\\\n",
    "          'and B= {:.2f} age in years/fraction'.format(B))\n",
    "print('Best fit line equation paramaters from MC: A = {:.2f} age in years'.format(mean_A_mc),\\\n",
    "          'and B= {:.2f} age in years/fraction'.format(mean_B_mc))\n",
    "\n",
    "plt.scatter(A_mc,B_mc,marker='o',c='blue',alpha=0.5)\n",
    "plt.scatter(A,B,c='pink',label = 'Data results',s=100)\n",
    "plt.scatter(mean_A_mc,mean_B_mc,c='magenta',label = 'MC results',s=100)\n",
    "plt.legend()"
   ]
  },
  {
   "cell_type": "markdown",
   "metadata": {},
   "source": [
    "The best fit values from the straight line fit to the original data and the straight line fit to the MC data are rather similar.   But the great thing about the MC is that we can use the standard deviation to derive an uncertainty in $A$ and $B$.\n",
    "\n"
   ]
  },
  {
   "cell_type": "code",
   "execution_count": 49,
   "metadata": {},
   "outputs": [
    {
     "name": "stdout",
     "output_type": "stream",
     "text": [
      "Best fit line equation paramaters from original data: A = 19.76 +/- 0.75 age in years and B= 3.97 +/- 1.19 age in years/fraction\n",
      "\n",
      "\n",
      "Best fit line equation paramaters from MC: A = 19.75 +/- 0.34 age in years and B= 3.97 +/- 0.34 age in years/fraction\n"
     ]
    }
   ],
   "source": [
    "\n",
    "\n",
    "mean_A_mc_err = np.std(A_mc,ddof=1)\n",
    "mean_B_mc_err = np.std(A_mc,ddof=1)\n",
    "\n",
    "print('Best fit line equation paramaters from original data: A = {:.2f} +/- {:.2f} age in years'.format(A,error_A),\\\n",
    "          'and B= {:.2f} +/- {:.2f} age in years/fraction'.format(B,error_B))\n",
    "print()\n",
    "print()\n",
    "print('Best fit line equation paramaters from MC: A = {:.2f} +/- {:.2f} age in years'.format(mean_A_mc,mean_A_mc_err),\\\n",
    "          'and B= {:.2f} +/- {:.2f} age in years/fraction'.format(mean_B_mc,mean_B_mc_err))"
   ]
  },
  {
   "cell_type": "code",
   "execution_count": 50,
   "metadata": {},
   "outputs": [
    {
     "data": {
      "text/plain": [
       "<matplotlib.legend.Legend at 0x1a2262bc10>"
      ]
     },
     "execution_count": 50,
     "metadata": {},
     "output_type": "execute_result"
    },
    {
     "data": {
      "image/png": "[encoded data removed]",
      "text/plain": [
       "<Figure size 432x288 with 1 Axes>"
      ]
     },
     "metadata": {
      "needs_background": "light"
     },
     "output_type": "display_data"
    }
   ],
   "source": [
    "# let's plot all our best fit lines to take a look at them\n",
    "for i in range(n_sample):\n",
    "    fit_new = straightline(A_mc[i],B_mc[i],x)\n",
    "    plt.plot(x,fit_new,c='grey',alpha=0.2)\n",
    "    \n",
    "# straight line fit from mean A and B from MC analysis\n",
    "fit_mc = straightline(mean_A_mc,mean_B_mc,x)\n",
    "fit_data = straightline(A,B,x)\n",
    "# straight line fit from original data\n",
    "\n",
    "plt.plot(x,fit_mc,lw=6,c='magenta',label='best fit to MC')\n",
    "plt.plot(x,fit_data,lw=2,label='best fit to original data')\n",
    "plt.xlabel('x')\n",
    "plt.ylabel('y')\n",
    "plt.legend()"
   ]
  },
  {
   "cell_type": "markdown",
   "metadata": {},
   "source": [
    "# Fitting curves to data "
   ]
  },
  {
   "cell_type": "markdown",
   "metadata": {},
   "source": [
    "An easy way to fit curves is via `the scipy` `optimize.curve_fit`. This returns an array with the best fitting parameters for the function it is given, based on minimising the differences in the `func(x,fit parameters)-y` squared.\n",
    "\n",
    "It also returns an array with the covariance of the fit parameters (see Chapter 4). The diagonals of this array also provides the variance of the parameter estimates."
   ]
  },
  {
   "cell_type": "markdown",
   "metadata": {},
   "source": [
    "### <font color=#4290C4>Example</font>\n",
    "\n",
    "1. Generate some fake data and fit a curve to it using the `scipy` `optimize curvefit` function and an equation of the form $y = A {\\rm sin}(bx)+C$. Perturb each $y$ value by adding on some $\\Delta y$ to create new \"noisy\" data.   Obtain errors in $y$ using a random normal distribution with normalisation of 20% of $y$.\n",
    "\n",
    "2. Derive the reduced chi-square value for your fit."
   ]
  },
  {
   "cell_type": "markdown",
   "metadata": {},
   "source": [
    "###  <font color=#c38241> Solution</font>\n",
    "\n",
    "Click below to see the solution."
   ]
  },
  {
   "cell_type": "code",
   "execution_count": 22,
   "metadata": {},
   "outputs": [
    {
     "data": {
      "text/plain": [
       "<ErrorbarContainer object of 3 artists>"
      ]
     },
     "execution_count": 22,
     "metadata": {},
     "output_type": "execute_result"
    },
    {
     "data": {
      "image/png": "[encoded data removed]",
      "text/plain": [
       "<Figure size 432x288 with 1 Axes>"
      ]
     },
     "metadata": {
      "needs_background": "light"
     },
     "output_type": "display_data"
    }
   ],
   "source": [
    "from scipy import optimize\n",
    "import numpy as np\n",
    "import pylab as plt \n",
    "%matplotlib inline  \n",
    "\n",
    "# this is a function that we think may explain the data\n",
    "def test_func(x, a,b,c):\n",
    "    return a * np.sin(b * x)+c\n",
    "\n",
    "# generate some fake data\n",
    "# start off with x array\n",
    "xdata = np.linspace(0, 4, 50)\n",
    "# get y from the function above\n",
    "y = test_func(xdata, 2.5, 1.3, 0.5)\n",
    "\n",
    "# initialise the random_seed for reproducability\n",
    "# ie we will get the same initial random seed every time\n",
    "np.random.seed(1729)\n",
    "# perturb y by this noise\n",
    "y_noise = 0.2*np.random.normal(size=xdata.size)\n",
    "# make new y array that is noisy\n",
    "ydata = y + y_noise\n",
    "\n",
    "# set up y error \n",
    "y_sigma = 0.2*(0.5+np.random.normal(size=xdata.size))\n",
    "\n",
    "# plot the data\n",
    "plt.errorbar(xdata, ydata,yerr=y_sigma,fmt='o',label='data')"
   ]
  },
  {
   "cell_type": "code",
   "execution_count": 23,
   "metadata": {},
   "outputs": [
    {
     "name": "stdout",
     "output_type": "stream",
     "text": [
      "Fit parameters A, B and C are 2.485, 1.319 and 0.430\n",
      "\n",
      "covariance matrix [[ 1.23722500e-04  1.45537330e-05  1.29967869e-05]\n",
      " [ 1.45537330e-05  4.12609818e-06 -1.42942807e-08]\n",
      " [ 1.29967869e-05 -1.42942807e-08  4.46367627e-05]]\n"
     ]
    },
    {
     "data": {
      "text/plain": [
       "[<matplotlib.lines.Line2D at 0x1a1d6e4310>]"
      ]
     },
     "execution_count": 23,
     "metadata": {},
     "output_type": "execute_result"
    },
    {
     "data": {
      "image/png": "[encoded data removed]",
      "text/plain": [
       "<Figure size 432x288 with 1 Axes>"
      ]
     },
     "metadata": {
      "needs_background": "light"
     },
     "output_type": "display_data"
    }
   ],
   "source": [
    "# get scipy to do the fitting for us\n",
    "# need to include y errors\n",
    "params, params_covariance = optimize.curve_fit(test_func, xdata, ydata,sigma=y_sigma,absolute_sigma=True)\n",
    "print('Fit parameters A, B and C are {:.3f}, {:.3f} and {:.3f}'.format(params[0],params[1],params[2]))\n",
    "print()\n",
    "print('covariance matrix',params_covariance)\n",
    "\n",
    "# plot the data\n",
    "plt.errorbar(xdata, ydata,yerr=y_noise,fmt='o',label='data')\n",
    "plt.xlabel('time (days')\n",
    "plt.ylabel('brightness of star')\n",
    "\n",
    "# plot the fit\n",
    "plt.plot(xdata,test_func(xdata,params[0],params[1],params[2]),lw=2,label='best fit')"
   ]
  },
  {
   "cell_type": "code",
   "execution_count": 24,
   "metadata": {},
   "outputs": [
    {
     "name": "stdout",
     "output_type": "stream",
     "text": [
      "The reduced chi-squared for the fit is 6.133\n"
     ]
    }
   ],
   "source": [
    "import scipy.stats\n",
    "# equation to get reduced chi^2\n",
    "def chi_sq_red(x,y,y_error):\n",
    "    # number of degrees of freedom\n",
    "    n = len(x) - 3 #3 parameters already need to be calculated : a, b + c\n",
    "    result = (1./n)*np.sum(((y-test_func(x,params[0],params[1],params[2]))/y_error)**2.0) \n",
    "    return result\n",
    "\n",
    "# calculate chi^2 of the fit:\n",
    "print('The reduced chi-squared for the fit is {:.3f}'.format(chi_sq_red(xdata,ydata,y_sigma))) \n"
   ]
  },
  {
   "cell_type": "markdown",
   "metadata": {},
   "source": [
    "***"
   ]
  },
  {
   "cell_type": "markdown",
   "metadata": {},
   "source": [
    "Now you are ready to tackle the **Chapter 8 quiz** on Learning Central and the [Chapter 8 yourturn notebook](https://github.com/haleygomez/Data-Analysis-2021/blob/master/blended_exercises/Chapter%208/Chapter8_yourturn.ipynb)."
   ]
  }
 ],
 "metadata": {
  "kernelspec": {
   "display_name": "Python 3",
   "language": "python",
   "name": "python3"
  },
  "language_info": {
   "codemirror_mode": {
    "name": "ipython",
    "version": 3
   },
   "file_extension": ".py",
   "mimetype": "text/x-python",
   "name": "python",
   "nbconvert_exporter": "python",
   "pygments_lexer": "ipython3",
   "version": "3.7.4"
  }
 },
 "nbformat": 4,
 "nbformat_minor": 2
}
