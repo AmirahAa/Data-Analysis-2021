{
 "cells": [
  {
   "cell_type": "markdown",
   "metadata": {},
   "source": [
    "# Cloud computing and Jupyter Notebooks\n",
    "\n",
    "To enable us to remote work and learn the necessary tools for Data Analysis (and scientific research in general), we will be using two modern computing concepts: **Interactive coding** (with Jupyter notebooks) and **cloud computing (with Google Colab)**.  Google Colab is a free place to run code without needing huge machines.\n",
    "\n",
    "This notebook we will help you get set up with Jupyter notebooks and cloud computing. We will need to get started in Google Colab first.  All of the instructions in these notebooks will be for running in Google Colab though you can also use your own installation of Jupyter Notebook on your computer (preferably via Anaconda to ensure you have all the material and right software for the course).\n",
    "\n",
    "\n",
    "Jupyter notebooks allow us to write text in cells using the **Markdown** format.\n",
    "\n",
    "It also allows us to write code in cells, we will use **Python 3** in this course."
   ]
  },
  {
   "cell_type": "markdown",
   "metadata": {},
   "source": [
    "## You will learn the following things this week:\n",
    "\n",
    "- How to use Jupyter (Colaboratory) notebooks\n",
    "- How to set up your Google Colaboratory \n",
    "- How to access and submit Jupyter Notebook assignments\n",
    "- How to write a Python program and run it"
   ]
  },
  {
   "cell_type": "markdown",
   "metadata": {},
   "source": [
    "## Getting Started\n",
    "\n",
    "1. First, watch the online video for Chapter 0.\n",
    "2. If you don't have one yet, sign up to a free account on Google.\n",
    "3. Go to [Google colab](https://colab.research.google.com/).  You will land on the introduction page. \n",
    "4. Sign in with your Google account using the blue button in the top right\n",
    "\n",
    "<font color = \"blue\">**NEED INSTRUCTIONS HERE**</font>\n",
    "\n",
    "Your screen might look like this\n",
    "\n",
    "![Screenshot](https://github.com/haleygomez/Data-Analysis-2021/raw/master/blended_exercises/Chapter%201/Colab_screenshot_sign_in.png)"
   ]
  },
  {
   "cell_type": "markdown",
   "metadata": {},
   "source": [
    "### Creating a new notebook or Accessing files\n",
    "\n",
    "You can see at the top in the orange bar that there are a few options: we can upload files, we can load in files from Google Drive, we can load in examples or see recent work. In the list, we can see our current Jupyter Notebooks. To open these we can simply click on them.\n",
    "\n",
    "To create a new notebook, we can click <font color=\"blue\">new notebook</font>. This will take you to a notebook without a title.\n",
    "\n",
    "![Screenshot](https://github.com/haleygomez/Data-Analysis-2021/raw/master/blended_exercises/Chapter%201/Colab_screenshot_new_notebook.png)\n",
    "\n",
    "You change the name for your notebook e.g. myfirstjupyternotebook.ipynb and select whether you want a code or text cell by clicking the regions highilighted with purple markers.\n",
    "\n",
    "Open your notebook. Hopefully it will not look to strange to you since Jupyter Notebooks is simply a word processor and code compiler in one. Take some time to look at the menus and see what different options there are. \n"
   ]
  },
  {
   "cell_type": "markdown",
   "metadata": {},
   "source": [
    "### Notebook cells\n",
    "\n",
    "The notebook contains cells. A cell is a place to either display text or to write some code to be executed by the notebook’s kernel. A kernel is the engine that runs the cells in the notebook.\n",
    "\n",
    "Here is a screenshot of the Chapter 1 notebook opened in Google Colab as an example.\n",
    "\n",
    "![Screenshot](https://github.com/haleygomez/Data-Analysis-2021/raw/master/blended_exercises/Chapter%201/Colab_screenshot_ch1.png)\n",
    "\n",
    "The code we will use is Python 3. It is a popular and common language which is free and openly available to all.  Here is an example of code within the notebook environment\n",
    "\n",
    "![Screenshot](https://github.com/haleygomez/Data-Analysis-2021/raw/master/blended_exercises/Chapter%201/Colab_screenshot_ch1_code.png)\n",
    "\n",
    "To execute the cell, we can click the play sign. \n",
    "\n",
    "![Screenshot](https://github.com/haleygomez/Data-Analysis-2021/raw/master/blended_exercises/Chapter%201/Colab_screenshot_ch1_run.png)"
   ]
  },
  {
   "cell_type": "markdown",
   "metadata": {},
   "source": [
    "Note that in Colab, the 'maximum lifetime' of a running notebook is 12 hours if you leave the browser open. An idle notebook instance cuts-off after 90 minutes. "
   ]
  },
  {
   "cell_type": "markdown",
   "metadata": {},
   "source": [
    "### Some useful things\n",
    "\n",
    "1. On the left hand side is a hidden menu that contains useful things. It includes code snippets which you can use or even add to if you want.  It also shows a \"table of contents\" of your current notebook, allowing you to navigate easily to whichever part of the notebook you want.\n",
    "\n",
    "![Screenshot](https://github.com/haleygomez/Data-Analysis-2021/raw/master/blended_exercises/Chapter%201/Colab_screenshot_menu.png)\n",
    "\n",
    "The small folder symbol below this navigation menu is where you can upload data files relevant to the Jupyter Notebook you're working on.\n",
    "\n",
    "![Screenshot](https://github.com/haleygomez/Data-Analysis-2021/raw/master/blended_exercises/Chapter%201/Colab_screenshot_upload.png)\n",
    "\n",
    "2. You can save your notebook using command-s or by using the File menu.  You can download your Notebook using File > Download as.\n",
    "\n",
    "3. Under the Tools menu in Google Colab, there is a `command palette` which allows you to select multiple different options eg Move cells up/down or stop the execution of the code.\n",
    "\n",
    "4. You can stop executing notebooks by clicking on \"Manage your sessions\" in the \"Connect\" menu.  This will open all the notebooks that are currently running and you can stop them.\n",
    "\n",
    "![Screenshot](https://github.com/haleygomez/Data-Analysis-2021/raw/master/blended_exercises/Chapter%201/Colab_screenshot_manage.png)"
   ]
  },
  {
   "cell_type": "markdown",
   "metadata": {},
   "source": [
    "## Why use these tools?\n",
    "\n",
    "*We are working online \"in the cloud\", and this is how almost all modern computing is done: both in scientific research and industrial applications. As such, in addition to make online working easier, we are taking this opportunity to get used to this concept in practice.*\n",
    "\n",
    "*Jupyter notebooks are used in many applications, from machine learning to scientific publications, and in particular within all fields of data science. For instance, Gravitational-wave observations are shared with Jupyter notebooks, e.g. GW190814. Google, IBM, Microsoft use it regularly. It's a very good way to share computational ideas with rich documentation, and is in particular great for plotting. *"
   ]
  },
  {
   "cell_type": "markdown",
   "metadata": {},
   "source": [
    "## Tips and warnings"
   ]
  },
  {
   "cell_type": "markdown",
   "metadata": {},
   "source": [
    "1. You do not have to use Google Colab, you can use your own installation of Jupyter notebooks by downloading Anaconda3 to your computer. Please see [here](https://www.anaconda.com/products/individual) for the instructions for downloading this depending on your machine type.\n",
    "\n",
    "2. You can find all of the notebooks and assessments on Learning Central. They are labelled in order of Chapter number, this is roughly (but not always) linked to the teaching week number.  The Chapter numbers are in order of teaching and learning.\n",
    "\n",
    "3. Reading the [Google colab overview](https://colab.research.google.com/notebooks/basic_features_overview.ipynb) is a good starting point for Jupyter notebooks.\n",
    "\n",
    "4. You can edit and re-execute cells, but be careful - sometimes this can lead to problems with subsequent cells. Sometimes cells can try to remember variables or functions or datafiles that have been deleted. First you can try clearing the outputs using \"Edit -> Clear all outputs\". The best thing to do if things seem to be going wrong is to reset your environment:\n",
    "    1. Runtime -> Restart runtime : resets the Python shell\n",
    "    2. Runtime -> Restart all runtimes :  resets Colab to have a 100% clean environment\n",
    "    \n",
    "5. If using Anaconda Jupiter Notebooks then use \"Kernel > Restart\" to clear your environment."
   ]
  },
  {
   "cell_type": "markdown",
   "metadata": {},
   "source": [
    "## Steps for each week\n",
    "**For each week/Chapter we will go through the following steps:**\n",
    "1. Watch the appropriate (Chapter X) lecture videos on Learning Central\n",
    "2. Upload the the relevant (Chapter X) Jupyter Notebook in Colab or use the link provided in Learning Central.\n",
    "3. Read and work through the notebook.\n",
    "4. Try the Chapter X quiz on Learning Central to solidify your learning.\n",
    "5. Attend Live Sessions and complete Chapter X - Your Turn notebook to put your learning into practice."
   ]
  }
 ],
 "metadata": {
  "kernelspec": {
   "display_name": "Python 3",
   "language": "python",
   "name": "python3"
  },
  "language_info": {
   "codemirror_mode": {
    "name": "ipython",
    "version": 3
   },
   "file_extension": ".py",
   "mimetype": "text/x-python",
   "name": "python",
   "nbconvert_exporter": "python",
   "pygments_lexer": "ipython3",
   "version": "3.7.4"
  }
 },
 "nbformat": 4,
 "nbformat_minor": 2
}
