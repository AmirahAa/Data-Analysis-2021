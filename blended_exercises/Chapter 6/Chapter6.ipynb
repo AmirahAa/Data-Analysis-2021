{
 "cells": [
  {
   "cell_type": "markdown",
   "metadata": {},
   "source": [
    "# Back to Bayes-ics"
   ]
  },
  {
   "cell_type": "markdown",
   "metadata": {},
   "source": [
    "Please ensure you have watched the Chapter 6 video(s)."
   ]
  },
  {
   "cell_type": "markdown",
   "metadata": {},
   "source": [
    "## You will learn the following things in this Chapter\n",
    "\n",
    "- The idea of a conjugate prior and why they are useful.\n",
    "- The interplay between priors and new data.\n",
    "- Use Bayes Theorem on standard forms of probability density functions.\n",
    "- Use this to do hypothesis testing in the Bayes framework.\n",
    "- How to use Python programming to do the above.\n",
    "- After completing this notebook you will be able to start CA 2."
   ]
  },
  {
   "cell_type": "markdown",
   "metadata": {},
   "source": [
    "***"
   ]
  },
  {
   "cell_type": "markdown",
   "metadata": {},
   "source": [
    "Previously (Chapter 2) we used Bayes Theorem to find the probability of A | B using discrete data points, but here we will see that we can also use it to find the probability density function that some model or model parameter explains the data given the data we measure and some previously measured values or estimates at the parameter (the prior). Let's remind ourselves that:\n",
    "\n",
    "$P(\\theta | D) = \\dfrac{ P(D | \\theta) P(\\theta)} { P(D)}.$\n",
    "\n",
    "Let's recap the terms:\n",
    "\n",
    "- $P(\\theta | D)$ the **posterior** - the probability of model parameter $\\theta$ being true, given the data\n",
    "- $ P(D | \\theta) $ the **likelihood** - given model parameter $\\theta$ what is likelihood of obtaining the data\n",
    "- $ P(\\theta)$ the **prior** - the probability of the model parameter $\\theta$ being ‘true’\n",
    "- $P(D)$ the **evidence** - the probability of getting the data, give all possible model parameter values ($\\theta$ and others!)\n",
    "\n",
    "In this Chapter we'll take a look at some classic examples where we can (easily) analytically solve the equations to get the model parameters out (which for us are the mean and standard deviation) out of the data we observe.  From above we can see that the posterior probability is what we want to calculate, the prior is what we think we already know about the population, and the likelihood is the likelihood of obtaining our data given the measured mean and standard deviation.\n",
    "\n",
    "We will look at 2 common situations:\n",
    "- a likelihood that can be described by a normal distribution\n",
    "- a likelihood that can be described by a bernoulli/binomial distribution\n",
    "\n",
    "Before we do this, we also define the term **conjugate prior**. This is one that has the same functional form as the posterior. If the likelihood is normally distributed, then the choice of a normal prior will ensure that the posterior is also a normal, and as such, our prior can be said to be conjugate. This is generally a good thing! \n",
    "\n",
    "Even if the true functional form of the posterior is *not* conjugate, it is common practise to approximate the prior distribution with a function that is, simply because it makes the mathematics easier, and it makes the functions behave! *Note that the prior is only conjugate when we consider likelihoods of a certain functional form.*"
   ]
  },
  {
   "cell_type": "markdown",
   "metadata": {},
   "source": [
    "## How Do We Choose the Prior?"
   ]
  },
  {
   "cell_type": "markdown",
   "metadata": {},
   "source": [
    "### Analytical expressions - Normal distributions"
   ]
  },
  {
   "cell_type": "markdown",
   "metadata": {},
   "source": [
    "Suppose that we have a set of observations $X = {x_1, x_2, \\ldots, x_n}$ of some quantity that we believe to have been drawn from a normal distribution. We can then write,\n",
    "\n",
    "$p(x|\\theta) = N(\\theta, \\sigma)$\n",
    "\n",
    "where $\\theta$ is the mean value of the distribution (unknown) and $\\sigma$ describes the width (known).\n",
    "\n",
    "We can then also write the probability of the mean of the sample, $\\hat X$, as,\n",
    "\n",
    "$p(\\hat X | \\theta) = N(\\theta, \\sigma/\\sqrt{n})$\n",
    "\n",
    "Notice that now we do not use $\\sigma$ as the error since as we make more measurements, our estimate of the mean gets better (recall the difference between the error and the standard error on the mean!).\n",
    "\n",
    "Now suppose that we have some data from a previous study that reports a value for $\\theta$ of $\\mu_0$, with an associated error, $\\sigma_0$. This study was also subject to random errors, so we are free to write,\n",
    "\n",
    "$p(\\theta) = N(\\mu_0, \\sigma_0)$\n",
    "\n",
    "Bayes theorem allows us to combine this information to determine the PDF of $\\theta$.  Since the denominator is the integral over all $\\theta$, it is just a constant, and so it doesn't affect the shape of the posterior, only the height. As such, we can ignore it for the moment, and focus on the numerator (i.e. the likelihood times prior).\n",
    "\n",
    "Since both the likelihood and prior are normal distributions, the posterior must also be a normal distribution, this leads to the following expressions for the mean and standard deviation of the posterior.\n",
    "\n",
    "$ \\hat{\\theta}  = \\dfrac{\\sigma_0^2}{\\sigma_0^2 + \\sigma^2/n} \\hat{X}   +  \\dfrac{\\sigma^2/n} {\\sigma_0^2 + \\sigma^2/n} \\mu_0\n",
    "$\n",
    "\n",
    "$\\hat{\\sigma}^2 =  \\dfrac{\\sigma_0^2 \\sigma^2/n} {\\sigma_0^2 + \\sigma^2/n}.$\n",
    "\n",
    "A nice way of thinking about this interplay between the prior and likelihood, is to imagine that the prior is simply adding another data point. If this data point is good (i.e. small variance, such that it is strongly peaked around the mean), then the prior pulls the posterior towards it. If the prior is vague, then it behaves like a data point with a big error, and the posterior relies on the data to provide the underlying shape. This is same behaviour, and indeed very similar maths, to the idea of *weighted averages* that we discussed in Chapter 5.\n",
    "\n",
    "**Good and Bad Data**\n",
    "\n",
    "When the data is good (eg if $\\sigma$ is small, and/or $n$ is large), the equation for the mean above shows that the 1st term will tend to one and the second term to zero, the *posterior will favour the data over the prior*. \n",
    "\n",
    "When the data is bad (eg if $\\sigma$ is large, and/or $n$ is small), the equation for the mean above shows that the 1st term will tend to one and the second term to zero, the *posterior will favour the data over the prior*. "
   ]
  },
  {
   "cell_type": "markdown",
   "metadata": {},
   "source": [
    "### <font color=#4290C4>Example</font>\n",
    "\n",
    "Ten 20-year old students have their heights measured (in cm) with variance of 50cm resulting in the following data:\n",
    "\n",
    "\n",
    "heights = 169.6, 166.8, 157.1, 181.1, 158.4, 165.6, 166.7, 156.5, 168.1, 165.3\n",
    "\n",
    "\n",
    "A previous set of (normally distributed) measurements said the mean and standard deviation of heights is 170  ±  3cm.\n",
    "\n",
    "\n",
    "Assuming that the heights are drawn from a normal distribution, state what shape the posterior distribution has and derive the mean and standard deviation of the posterior distribution.\n",
    "\n",
    "\n",
    "Plot the data you observe as a histogram. Also plot the PDFs for the likelihood, the prior and the posterior. Briefly discuss what you see.\n",
    "\n",
    "\n",
    "Plot the posterior PDF and overplot the mean and standard deviation of the posterior (tip: plt.axvline(value) plots a vertical line)."
   ]
  },
  {
   "cell_type": "markdown",
   "metadata": {},
   "source": [
    "###  <font color=#c38241> Solution</font>\n",
    "\n",
    "Click below to see the solution."
   ]
  },
  {
   "cell_type": "code",
   "execution_count": 48,
   "metadata": {},
   "outputs": [
    {
     "name": "stdout",
     "output_type": "stream",
     "text": [
      "likelihood mean and error are 165.520,2.236\n",
      "posterior mean and std are 167.120,1.793\n"
     ]
    },
    {
     "data": {
      "text/plain": [
       "Text(0, 0.5, 'PDF')"
      ]
     },
     "execution_count": 48,
     "metadata": {},
     "output_type": "execute_result"
    },
    {
     "data": {
      "image/png": "[encoded data removed]",
      "text/plain": [
       "<Figure size 432x288 with 1 Axes>"
      ]
     },
     "metadata": {
      "needs_background": "light"
     },
     "output_type": "display_data"
    }
   ],
   "source": [
    "import numpy as np\n",
    "import pylab as plt\n",
    "from scipy.stats import norm\n",
    "\n",
    "%matplotlib inline\n",
    "\n",
    "# function for mean of posterior if posterior normal\n",
    "def post_mean(var_0,var,n,X,mu_0):\n",
    "    result = (var_0/ (var_0 + (var/n)) ) * X + ((var/n)/(var_0+(var/n)))*mu_0\n",
    "    return result\n",
    "\n",
    "# function for width (standard dev) of posterior if posterior normal\n",
    "def post_std(var_0,var,n):\n",
    "    result = np.sqrt((var_0*(var/n)) / (var_0 + (var/n)))\n",
    "    return result\n",
    "\n",
    "ht = [169.6,166.8,157.1,181.1,158.4,165.6,166.7,156.5,168.1,165.3]\n",
    "n = len(ht)\n",
    "\n",
    "var = 50.\n",
    "err_mean = np.sqrt(var/n)\n",
    "\n",
    "data_mean = np.mean(ht)\n",
    "data_var = var\n",
    "prior_var = 3**2.\n",
    "prior_mean = 170. \n",
    "\n",
    "# set up an array\n",
    "x = np.linspace(150,180,100)\n",
    "\n",
    "# these are normal distributions so \n",
    "# can use the analytical equations from the notes for posterior\n",
    "# mean and standard deviation\n",
    "posterior_mean = post_mean(prior_var,data_var,n,data_mean,prior_mean)\n",
    "\n",
    "posterior_std = post_std(prior_var,data_var,n)\n",
    "\n",
    "print('likelihood mean and error are {:.3f},{:.3f}'.format(data_mean,err_mean))\n",
    "\n",
    "print('posterior mean and std are {:.3f},{:.3f}'.format(posterior_mean,posterior_std))\n",
    "\n",
    "#plt.figure(figsize=(8,7))\n",
    "# for plotting\n",
    "# to plot likelihood need to remember sigma= error on mean\n",
    "plt.plot(x,norm.pdf(x,data_mean,err_mean),label='likelihood',c='purple') #likelihood\n",
    "plt.plot(x,norm.pdf(x,prior_mean,np.sqrt(prior_var)),label='prior',c='red') # prior distribution\n",
    "plt.plot(x,norm.pdf(x,posterior_mean,posterior_std),label='posterior',c='blue',lw=4)\n",
    "\n",
    "plt.hist(ht,density=True,label='data')\n",
    "plt.legend(loc='upper left')\n",
    "plt.xlim(155,180)\n",
    "plt.ylim(0,0.25)\n",
    "plt.xlabel('height in cm')\n",
    "plt.ylabel('PDF')"
   ]
  },
  {
   "cell_type": "markdown",
   "metadata": {},
   "source": [
    "What does this plot tell us? We can see that the prior is quite far from data. The data has a few peaks and is not really Gaussian! but we do expect the population to be Gaussian. The peaks at heights $<$160cm caused the likelihood PDF to peak at a lower mean than the previous measurement (the prior). The posterior (given the prior information) favours the second group of data points but has a wider distribution.  "
   ]
  },
  {
   "cell_type": "markdown",
   "metadata": {},
   "source": [
    "#### Derivation: Mean and Variance from the Normal Distribution"
   ]
  },
  {
   "cell_type": "markdown",
   "metadata": {},
   "source": [
    "### Analytical expressions - Binomial/Bernoulli Distributions"
   ]
  },
  {
   "cell_type": "markdown",
   "metadata": {},
   "source": [
    "After the normal likelihood, Binomial/Bernoulli distributions are probably the second most common form, since it covers a wide range of problems, such the ski test we saw earlier in the course, drug trials, etc. The conjugate prior to this is is a beta function determined by shape parameters $a$ and $b$.\n",
    "\n",
    "The posterior mean is then given by,\n",
    "\n",
    "$\\hat{\\theta}  = \\dfrac{ \\nu + a }{N + a + b} = \\dfrac{ \\nu }{ N }\\, \\dfrac{ N }{ N + a + b }~ +~ \\dfrac{ a }{ a + b} \\, \\dfrac{a + b}{ N + a + b }$\n",
    "\n",
    "and the variance is \n",
    "\n",
    "$\\sigma^2  = \\dfrac{ \\hat{\\theta}(1 - \\hat{\\theta})}  {\\nu+a + N-\\nu+b + 1}.$\n",
    "\n",
    "We can roughly associate $a$ with the number of successes you previously observed and $(a + b) \\sim n$  with the number of trials you observed. So if you have a guess for the prior mean $m$, you can try\n",
    "\n",
    "$a=mn$\n",
    "\n",
    "$b=1-m$\n",
    "\n",
    "eg if you have a coin but do not know if it is biased towards heads and tails then $a = b =0.5$ is a safe assumption. If you repeat the experiment 6 times and coin seems to be fair then a good choice might be $a=b=3$."
   ]
  },
  {
   "cell_type": "markdown",
   "metadata": {},
   "source": [
    "#### Derivation: Mean and Variance from Binomial Distributions"
   ]
  },
  {
   "cell_type": "markdown",
   "metadata": {},
   "source": [
    "## What if we know nothing about the prior?"
   ]
  },
  {
   "cell_type": "markdown",
   "metadata": {},
   "source": [
    "In the absence of any other information, a **uniform** (or constant) prior is often assumed.  This can be interpreted as meaning that all possible values are equally likely, or you have no prior information and you cannot distinguish between possible values.  Note that a uniform prior can be used by setting the prior to 1 over the range required, or by using a beta prior with $a=b=1$.\n",
    "\n",
    "Although it sounds like it would make no difference, it turns out that a uniform prior can still add information and change the probabilities, particularly if your experiment has low success rates or low numbers of trials (for Binomial events say).   Think about it this way: using a uniform prior in a Bernoulli experiment is equivalent to adding two observations to the data: one success and one fail (or one heads, one tails) etc. "
   ]
  },
  {
   "cell_type": "markdown",
   "metadata": {},
   "source": [
    "### <font color=#4290C4>Example</font>\n",
    "\n",
    "Suppose we have an experiment running $N$ Bernoulli trials where $\\nu$ successes are recorded.  The unknown probability of success is $p$. A sutiable uniform prior would be $p(\\theta) = 1$.  <br><br> \n",
    "\n",
    "One might think we do not gain anything from a uniform prior, but using a uniform prior in a Bernoulli experiment is equivalent to adding two observations to the data, one success and one fail (or one heads, one tails).  Here we will prove it can make a difference.<br><br>\n",
    "\n",
    "Compare expressions for the expectation value expected from the data (the mean of the Bernoulli distribution) with that from the posterior.<br><br>\n",
    "\n",
    "Calculate these for small $N$ and $\\nu$ and large $N$ and $\\nu$. "
   ]
  },
  {
   "cell_type": "markdown",
   "metadata": {},
   "source": [
    "###  <font color=#c38241> Solution</font>\n",
    "\n",
    "Click below to see the solution."
   ]
  },
  {
   "cell_type": "markdown",
   "metadata": {},
   "source": [
    "For $\\nu$ successes and $N$ trials, the Bernoulli mean is given by $p=\\nu/N$. \n",
    "\n",
    "The prior is a beta function with $a=1,b=1$.\n",
    "\n",
    "The posterior mean for this family, with a beta prior is given by\n",
    "\n",
    "${\\rm experiment~ mean} = \\dfrac{\\nu}{N}$\n",
    "\n",
    "so\n",
    "\n",
    "${\\rm posterior~ mean} = \\dfrac{\\nu}{N}\\dfrac{N}{N+a+b} + \\dfrac{a}{a+b}\\dfrac{a+b}{N+a+b}$ for $a$ and $b$ from priors.\n",
    "\n",
    "Or we can write\n",
    "\n",
    "${\\rm posterior~ mean} = \\dfrac{\\nu+a_{\\rm post}}{N+a_{\\rm post}+b_{\\rm post}}$ where $a_{\\rm post}$ and $b_{\\rm post}$ are given by $\\nu+a$ and $N-\\nu+b$."
   ]
  },
  {
   "cell_type": "code",
   "execution_count": 42,
   "metadata": {},
   "outputs": [
    {
     "name": "stdout",
     "output_type": "stream",
     "text": [
      "N= 10.0 nu= 2.0\n",
      "ratio between values from data + posterior is     0.800\n",
      "N= 10.0 nu= 8.0\n",
      "ratio between values from data + posterior is     1.067\n",
      "N= 100.0 nu= 80.0\n",
      "ratio between values from data + posterior is     1.007\n",
      "N= 1000.0 nu= 800.0\n",
      "ratio between values from data + posterior is     1.001\n"
     ]
    }
   ],
   "source": [
    "def post_mean_bin(n,nu,a,b):\n",
    "    a_post = nu + a\n",
    "    b_post = n - nu + b\n",
    "    return (nu+a)/(n+a+b)\n",
    "\n",
    "def bern_mean(n,nu):\n",
    "    return nu/n\n",
    "\n",
    "# let's test some values of nu_test,N_test\n",
    "nu_test = [2.,8.,80.,800.]\n",
    "N_test = [10.,10.,100.,1000.]\n",
    "\n",
    "#\n",
    "a_prior = 1.\n",
    "b_prior = 1.\n",
    "\n",
    "for i in range(0,len(nu_test)):\n",
    "    print(\"N=\",N_test[i],\"nu=\",nu_test[i])\n",
    "    print('ratio between values from data + posterior is \\\n",
    "    {:.3f}'.format(bern_mean(N_test[i],nu_test[i])/post_mean_bin(N_test[i],nu_test[i],a_prior,b_prior)))\n"
   ]
  },
  {
   "cell_type": "markdown",
   "metadata": {},
   "source": [
    "So for the same $N$, the lower the success rate $\\nu$, the larger the difference between the posterior and the data values are - ie the uniform prior does affect the estimate of $\\theta$ from the posterior.  Difference is smaller for larger $N$."
   ]
  },
  {
   "cell_type": "markdown",
   "metadata": {},
   "source": [
    "*** "
   ]
  },
  {
   "cell_type": "markdown",
   "metadata": {},
   "source": [
    "### The Evidence term"
   ]
  },
  {
   "cell_type": "markdown",
   "metadata": {},
   "source": [
    "At this point, you are probably wondering why we've neglected the evidence term! \n",
    "\n",
    "The evidence term is a number - it does not affect the shape of the distribution, just the absolute values of probability. The evidence term is just a normalisation for the problem. Often, we can ignore the evidence. For example when we just care the mean and variance of the posterior, the normalisation is not important. Also, if we simply want to the know the ratio of $\\theta$ taking two values, we again don't need to know the normalisation of the posterior, so we can ignore the evidence. Similarly, if we are just interested in finding the overall shape of the posterior.\n",
    "\n",
    "However, we've established that for the case of a normal likelihood, and a normal prior, the posterior is also normally distributed. Also, we've already worked out the width parameter of the normal, so in this case, it is trivial to normalise the posterior, and thus create a true PDF.\n",
    "\n",
    "For problems where we really do want to know the actual probabilities, but where the maths is tricky, we can still work without evaluating the evidence in many cases. For example, one can get a crude approximation to a normalised posterior by first making a *histogram* of the posterior, and then numerically integrating to find the total area under the histogram. If one then divides the original histogram by this area, the result is a normalised histogram of the posterior, and as we mentioned early in Block A, this is an approximation to the posterior's underlying PDF.\n"
   ]
  },
  {
   "cell_type": "markdown",
   "metadata": {},
   "source": [
    "***"
   ]
  },
  {
   "cell_type": "markdown",
   "metadata": {},
   "source": [
    "## Credible Intervals"
   ]
  },
  {
   "cell_type": "markdown",
   "metadata": {},
   "source": [
    "The outcome of Bayes Theorem gives us the posterior which in these cases provides us with the probability density function for the parameter $\\theta$ given the data and how likely you think this is. So if the parameter is outside the credible interval we say it's not credible, if it lies within 95% of the credible interval we say it is credible.\n",
    "\n",
    "So in Bayesian statistics, a credible interval is an interval within which an unobserved parameter value falls with a particular probability.\n",
    "\n",
    "Recall that in Bayesianism, the probability distributions reflect our degree of belief. So when we compute the credible region it is equivalent to saying\n",
    "\n",
    "<font color=blue>\"Given our observed data, there is a 95% probability that the true value of the mean falls within the CR\"</font> - Bayesians\n",
    "\n",
    "In frequentism, on the other hand, $\\mu$ is considered a fixed value and the data (and all quantities derived from the data, including the bounds of the confidence interval) are random variables. So the frequentist confidence interval is equivalent to saying\n",
    "\n",
    "<font color=red>\"There is a 95% probability that when I compute confidence intervals from data of this sort, the true mean will fall within the confidence interval.\"</font>- Frequentists \n",
    "\n",
    "Here's another way again:\n",
    "\n",
    "Suppose we read that the observed data $D_{\\rm obs}$ support conclusion $C$. How do the two parties see this?\n",
    "\n",
    "<font color=red>\"C was selected with a procedure that is right 95% of the time over a set of $D$ that includes $D_{\\rm obs}$.\"</font> - Frequentist \n",
    "\n",
    "<font color=blue>\"The strength of the chain of reasoning from the model and $D_{\\rm obs}$ to concluding C has probability 0.95.\"</font> - Bayesian\n",
    "\n",
    "Credible intervals for Gaussians produce similar results to confidence intervals, but this is simply because of the properties of Gaussians.\n",
    "\n",
    "Note that credible intervals are also known as high density intervals. These are used in many areas of science, in particular in gravitational wave astronomy."
   ]
  },
  {
   "cell_type": "markdown",
   "metadata": {},
   "source": [
    "### <font color=#4290C4>Example</font>\n",
    "\n",
    "We are given a coin at random, and asked to perform 50 flips. We find that heads comes up 35 of the 50 times. We want to know if the coin is fair. Plot the likelihood, prior and posterior distributions on one plot."
   ]
  },
  {
   "cell_type": "markdown",
   "metadata": {},
   "source": [
    "###  <font color=#c38241> Solution</font>\n",
    "\n",
    "Click below to see the solution."
   ]
  },
  {
   "cell_type": "markdown",
   "metadata": {},
   "source": [
    "The probability of obtaining the resulting series of heads (success) and tails (fail) is given by the Binomial distribution (since it is one coin flipped in a sequence of events/successes.\n",
    "\n",
    "$p(\\nu=35|N=50,\\theta) = \\theta^N(1-\\theta)^{(N-\\nu)}$\n",
    "\n",
    "Since we were given the coin at random and we know nothing about it, we will adopt a uniform prior.\n",
    "\n",
    "$p(\\theta) = 1$ f or $0 < \\theta < 1$.\n",
    "\n",
    "Note that in this example I will write this simple as $p=1$ for all $x$  but a uniform prior for Bernoulli/Binomial family is equivalent to a beta function with $a=1,b=1$, so we could also write it as a beta function (we can also be written in the format = Beta(1,1)).\n",
    "\n",
    "Our null hypothesis is that the coin is fair ($\\theta=0.5$)."
   ]
  },
  {
   "cell_type": "code",
   "execution_count": 37,
   "metadata": {},
   "outputs": [
    {
     "data": {
      "text/plain": [
       "<matplotlib.legend.Legend at 0x1a21bff390>"
      ]
     },
     "execution_count": 37,
     "metadata": {},
     "output_type": "execute_result"
    },
    {
     "data": {
      "image/png": "[encoded data removed]",
      "text/plain": [
       "<Figure size 432x288 with 1 Axes>"
      ]
     },
     "metadata": {
      "needs_background": "light"
     },
     "output_type": "display_data"
    }
   ],
   "source": [
    "import numpy as np\n",
    "import pylab as plt\n",
    "import math\n",
    "\n",
    "%matplotlib inline\n",
    "\n",
    "nu = 35\n",
    "N=50\n",
    "\n",
    "# for plotting\n",
    "nsteps=100\n",
    "\n",
    "x = np.arange(0,1,1./nsteps)\n",
    "\n",
    "likelihood_coin = (math.factorial(N)/(math.factorial(nu)*(math.factorial(N-nu))))*x**nu * (1 - x)**(N - nu) \n",
    "\n",
    "# prior is constant = 1 for all x so need to make this an array\n",
    "prior_coin = [1.0 for i in range(0,len(x))]\n",
    "\n",
    "# posterior = likelihood x prior\n",
    "posterior_coin = likelihood_coin*prior_coin\n",
    "\n",
    "#let's save an array of x and y for working out credible intervals later\n",
    "\n",
    "plt.plot(x,likelihood_coin,label='likelihood')\n",
    "plt.plot(x,posterior_coin,'.',label='posterior')\n",
    "\n",
    "#plt.xlim(0,1)\n",
    "plt.ylabel('PDF unnormalised')\n",
    "plt.xlabel('theta')\n",
    "plt.legend(loc='upper left')"
   ]
  },
  {
   "cell_type": "markdown",
   "metadata": {},
   "source": [
    "### <font color=#4290C4>Example</font>\n",
    "\n",
    "Now estimate the 95% credible intervals and the value we would expect for a fair coin $\\theta = 0.5$. For a ROPE we could set this to something like $\\theta = 0.5 \\pm 0.025$. "
   ]
  },
  {
   "cell_type": "markdown",
   "metadata": {},
   "source": [
    "###  <font color=#c38241> Solution</font>\n",
    "\n",
    "Click below to see the solution."
   ]
  },
  {
   "cell_type": "markdown",
   "metadata": {},
   "source": [
    "So is it fair? Let's assume we're approaching gaussian distribution for $N=50$ and simply use the fact that the mean $\\pm 1.96 \\sigma$ gives 95% probability intervals.\n",
    "\n",
    "To do this we need to calculate the mean and standard deviation of the posterior. We can do this using the analytic expressions listed above for a bernoulli likelihood with beta prior."
   ]
  },
  {
   "cell_type": "code",
   "execution_count": 38,
   "metadata": {},
   "outputs": [
    {
     "data": {
      "text/plain": [
       "<matplotlib.legend.Legend at 0x1a21d9d610>"
      ]
     },
     "execution_count": 38,
     "metadata": {},
     "output_type": "execute_result"
    },
    {
     "data": {
      "image/png": "[encoded data removed]",
      "text/plain": [
       "<Figure size 432x288 with 1 Axes>"
      ]
     },
     "metadata": {
      "needs_background": "light"
     },
     "output_type": "display_data"
    }
   ],
   "source": [
    "# posterior_mean \n",
    "nu =35.\n",
    "N=50.\n",
    "\n",
    "# uniform prior = beta(1,1) ie a=1, b=1\n",
    "a = 1.\n",
    "b = 1.\n",
    "# posterior mean + std from analytical approx in lecture notes\n",
    "posterior_mean_coin = np.float((nu+a)/(N+a+b))\n",
    "posterior_std_coin = np.sqrt( posterior_mean_coin*(1-posterior_mean_coin)/(nu+a+N-nu+b+1))\n",
    "\n",
    "# set up credible intervals = mean + / - 1.96 x sigma\n",
    "HDI_a = posterior_mean_coin+1.96*posterior_std_coin\n",
    "HDI_b = posterior_mean_coin-1.96*posterior_std_coin\n",
    "\n",
    "plt.plot(x,likelihood_coin,label='likelihood',c='purple')\n",
    "plt.plot(x,posterior_coin,'.',label='posterior',c='black',lw=2)\n",
    "\n",
    "# this makes nice shaded regions to show off where the ROPE is\n",
    "plt.axvspan(0.5-0.025,0.5+0.025,color='green',label='ROPE',alpha=0.3)\n",
    "plt.axvspan(HDI_b,HDI_a,color='pink',label='95% HDI',alpha=0.3)\n",
    "\n",
    "plt.axvline(0.5,color='green',label='theta=0.5')\n",
    "#plt.ylim(0,6e-14)\n",
    "plt.ylabel('PDF unnormalised')\n",
    "plt.xlabel('theta')\n",
    "plt.legend(loc='upper left')"
   ]
  },
  {
   "cell_type": "markdown",
   "metadata": {},
   "source": [
    "The fair coin ($\\theta=0.5$) falls outside the 95% HDI, so we can reject the null hypothesis that the coin is fair. \n",
    "\n",
    "Note that in python we could determine credible intervals if we assume that the posterior were normal by (i) using `scipy.stats` `norm.interval(0.95,mean,std)` function or (ii) numpy's `percentile(data,95)` function."
   ]
  },
  {
   "cell_type": "markdown",
   "metadata": {},
   "source": [
    "### <font color=#4290C4>Example</font>\n",
    "\n",
    "Let's return to the question earlier about the student heights. Now we are going to assume the null hypothesis is that the height of a 20 year old student is  $>170$ cm. Determine the 95% credible intervals for the posterior. Plot this range over your posterior distribution. You can do this using lines axvline or axvspan to colour the entire range."
   ]
  },
  {
   "cell_type": "markdown",
   "metadata": {},
   "source": [
    "###  <font color=#c38241> Solution</font>\n",
    "\n",
    "Click below to see the solution."
   ]
  },
  {
   "cell_type": "code",
   "execution_count": 44,
   "metadata": {},
   "outputs": [
    {
     "name": "stdout",
     "output_type": "stream",
     "text": [
      "95% confidence intervals are 163.606 and 170.634 cm\n"
     ]
    },
    {
     "data": {
      "text/plain": [
       "Text(0, 0.5, 'PDF')"
      ]
     },
     "execution_count": 44,
     "metadata": {},
     "output_type": "execute_result"
    },
    {
     "data": {
      "image/png": "[encoded data removed]",
      "text/plain": [
       "<Figure size 432x288 with 1 Axes>"
      ]
     },
     "metadata": {
      "needs_background": "light"
     },
     "output_type": "display_data"
    }
   ],
   "source": [
    "# to plot likelihood need to remember sigma= error on mean\n",
    "#plt.plot(x,norm.pdf(x,data_mean,err_mean),label='likelihood',c='purple') #likelihood\n",
    "#plt.plot(x,norm.pdf(x,prior_mean,np.sqrt(prior_var)),label='prior',c='red') # prior distribution\n",
    "\n",
    "# can use norm.interval to get the interval out for 95% \n",
    "# note that 95% is roughly equivalent to 2xstandard deviations so they can use that\n",
    "HDI_1,HDI_2 = norm.interval(0.95,posterior_mean,posterior_std)\n",
    "print('95% confidence intervals are {:.3f} and {:.3f} cm'.format(HDI_1,HDI_2))\n",
    "\n",
    "plt.plot(x,norm.pdf(x,posterior_mean,posterior_std),label='posterior',c='blue',lw=2)\n",
    "plt.axvline(posterior_mean,label='mean posterior',color='blue',alpha=0.5)\n",
    "plt.axvline(posterior_mean+posterior_std,color='blue',ls='-.',alpha=0.5)\n",
    "plt.axvline(posterior_mean-posterior_std,color='blue',ls='-.',alpha=0.5)\n",
    "plt.axvspan(HDI_1,HDI_2,facecolor='red', alpha=0.2, label = '95% HDI')\n",
    "plt.legend(loc='upper left')\n",
    "plt.xlim(150,180)\n",
    "plt.ylim(0,0.3)\n",
    "plt.xlabel('height in cm')\n",
    "plt.ylabel('PDF')"
   ]
  },
  {
   "cell_type": "markdown",
   "metadata": {},
   "source": [
    "We want to test null hypothesis that height of a 20 year old student is $>170$cm. Can we reject the null hypothesis based on our data? \n",
    "\n",
    "Let's use everything $>170$cm as a reasonable region (our ROPE)."
   ]
  },
  {
   "cell_type": "code",
   "execution_count": 45,
   "metadata": {},
   "outputs": [
    {
     "name": "stdout",
     "output_type": "stream",
     "text": [
      "95% confidence intervals are 163.606 and 170.634 cm\n"
     ]
    },
    {
     "data": {
      "text/plain": [
       "Text(0, 0.5, 'PDF')"
      ]
     },
     "execution_count": 45,
     "metadata": {},
     "output_type": "execute_result"
    },
    {
     "data": {
      "image/png": "[encoded data removed]",
      "text/plain": [
       "<Figure size 432x288 with 1 Axes>"
      ]
     },
     "metadata": {
      "needs_background": "light"
     },
     "output_type": "display_data"
    }
   ],
   "source": [
    "%matplotlib inline\n",
    "\n",
    "# can use norm.interval to get the interval out for 95% \n",
    "HDI_1,HDI_2= norm.interval(0.95,posterior_mean,posterior_std)\n",
    "print('95% confidence intervals are {:.3f} and {:.3f} cm'.format(HDI_1,HDI_2))\n",
    "\n",
    "plt.plot(x,norm.pdf(x,posterior_mean,posterior_std),label='posterior',c='blue',lw=2)\n",
    "plt.axvline(posterior_mean,label='mean posterior',color='blue',alpha=0.5)\n",
    "plt.axvline(posterior_mean+posterior_std,color='blue',ls='-.',alpha=0.5)\n",
    "plt.axvline(posterior_mean-posterior_std,color='blue',ls='-.',alpha=0.5)\n",
    "plt.axvspan(HDI_1,HDI_2,facecolor='red', alpha=0.2, label = '95% HDI')\n",
    "plt.axvspan(170,170+10,facecolor='purple', alpha=0.5, label = 'ROPE')\n",
    "\n",
    "plt.legend(loc='upper left')\n",
    "plt.xlim(150,180)\n",
    "plt.ylim(0,0.3)\n",
    "plt.xlabel('height in cm')\n",
    "plt.ylabel('PDF')"
   ]
  },
  {
   "cell_type": "markdown",
   "metadata": {},
   "source": [
    "The ROPE is just within the 95% confidence interval, so although we cannot reject the null hypothesis that students heights are $>170$cm as it lies *just within our credible region*, the data does not give strong evidence for the null hypothesis. "
   ]
  },
  {
   "cell_type": "markdown",
   "metadata": {},
   "source": [
    "***"
   ]
  },
  {
   "cell_type": "markdown",
   "metadata": {},
   "source": [
    "Now you are ready to tackle the **Chapter 6 quiz** on Learning Central and the [Chapter 6 yourturn notebook](https://github.com/haleygomez/Data-Analysis-2021/blob/master/blended_exercises/Chapter%206/Chapter6_yourturn.ipynb)."
   ]
  }
 ],
 "metadata": {
  "kernelspec": {
   "display_name": "Python 3",
   "language": "python",
   "name": "python3"
  },
  "language_info": {
   "codemirror_mode": {
    "name": "ipython",
    "version": 3
   },
   "file_extension": ".py",
   "mimetype": "text/x-python",
   "name": "python",
   "nbconvert_exporter": "python",
   "pygments_lexer": "ipython3",
   "version": "3.7.4"
  }
 },
 "nbformat": 4,
 "nbformat_minor": 2
}
