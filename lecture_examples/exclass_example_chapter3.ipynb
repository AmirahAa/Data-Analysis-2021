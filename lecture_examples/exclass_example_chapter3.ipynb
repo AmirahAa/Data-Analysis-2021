{
 "cells": [
  {
   "cell_type": "markdown",
   "metadata": {},
   "source": [
    "**Question:** \n",
    "Suppose a group of 5 students take 3 exams, in English, Maths and Art.  Can you find any evidence to support the notion that students that do well in Art tend to do poorly in Maths?  The results are given below.  Do this calculation from \"scratch\" ie don't use inbuilt python routines for covariance.\n",
    "\n",
    "\n",
    "| Student | Maths | English | Art  |\n",
    "| --- | --- | --- | --- | --- |\n",
    "|1\t| 90\t| 60\t| 90 |\n",
    "|2\t| 90\t| 90\t| 30 |\n",
    "|3\t| 60\t| 60\t| 60 |\n",
    "|4\t| 60\t| 60\t| 90 |\n",
    "|5\t| 30\t| 30\t| 30 |"
   ]
  },
  {
   "cell_type": "markdown",
   "metadata": {},
   "source": [
    "Let's represent the data as matrix **X**\n",
    "\n",
    "\\begin{equation}\n",
    "{\\bf X} = \\begin{bmatrix}\n",
    "90\t& 60&\t90\\\\\n",
    "90&90&30 \\\\\n",
    "60&60&60\\\\\n",
    "60&60&90\\\\\n",
    "30&30&30\\\\\n",
    "\\end{bmatrix}\n",
    "\\end{equation}"
   ]
  },
  {
   "cell_type": "markdown",
   "metadata": {},
   "source": [
    "Relevant equations are:\n",
    "\n",
    "${\\bf x} = {\\bf X} - {\\bf 11^T}{\\bf X} ( 1 / n )$\n",
    "\n",
    "${\\bf V} = {\\bf x^Tx} ( 1 / n ).$"
   ]
  },
  {
   "cell_type": "code",
   "execution_count": 1,
   "metadata": {
    "collapsed": true
   },
   "outputs": [],
   "source": [
    "import numpy as np"
   ]
  },
  {
   "cell_type": "code",
   "execution_count": 28,
   "metadata": {},
   "outputs": [
    {
     "name": "stdout",
     "output_type": "stream",
     "text": [
      "[[504. 360. 180.]\n",
      " [360. 360.   0.]\n",
      " [180.   0. 720.]]\n"
     ]
    }
   ],
   "source": [
    "X = np.matrix('90 60 90; 90 90 30; 60 60 60; 60 60 90; 30 30 30')\n",
    "\n",
    "n = len(X)\n",
    "\n",
    "one = np.matrix('1;1;1;1;1')\n",
    "\n",
    "one_T = one.transpose()\n",
    "\n",
    "x = X- one*one_T*X*(1./n)\n",
    "x_T = x.transpose()\n",
    "\n",
    "V = x_T*x*(1./n)\n",
    "print(V)"
   ]
  },
  {
   "cell_type": "code",
   "execution_count": null,
   "metadata": {
    "collapsed": true
   },
   "outputs": [],
   "source": []
  },
  {
   "cell_type": "code",
   "execution_count": null,
   "metadata": {
    "collapsed": true
   },
   "outputs": [],
   "source": []
  },
  {
   "cell_type": "code",
   "execution_count": null,
   "metadata": {
    "collapsed": true
   },
   "outputs": [],
   "source": []
  },
  {
   "cell_type": "code",
   "execution_count": null,
   "metadata": {
    "collapsed": true
   },
   "outputs": [],
   "source": []
  },
  {
   "cell_type": "code",
   "execution_count": null,
   "metadata": {
    "collapsed": true
   },
   "outputs": [],
   "source": []
  },
  {
   "cell_type": "code",
   "execution_count": null,
   "metadata": {
    "collapsed": true
   },
   "outputs": [],
   "source": []
  },
  {
   "cell_type": "code",
   "execution_count": null,
   "metadata": {
    "collapsed": true
   },
   "outputs": [],
   "source": []
  },
  {
   "cell_type": "code",
   "execution_count": null,
   "metadata": {
    "collapsed": true
   },
   "outputs": [],
   "source": []
  },
  {
   "cell_type": "code",
   "execution_count": null,
   "metadata": {
    "collapsed": true
   },
   "outputs": [],
   "source": []
  },
  {
   "cell_type": "code",
   "execution_count": null,
   "metadata": {
    "collapsed": true
   },
   "outputs": [],
   "source": []
  },
  {
   "cell_type": "code",
   "execution_count": null,
   "metadata": {
    "collapsed": true
   },
   "outputs": [],
   "source": []
  },
  {
   "cell_type": "code",
   "execution_count": null,
   "metadata": {
    "collapsed": true
   },
   "outputs": [],
   "source": []
  },
  {
   "cell_type": "code",
   "execution_count": null,
   "metadata": {
    "collapsed": true
   },
   "outputs": [],
   "source": []
  },
  {
   "cell_type": "code",
   "execution_count": null,
   "metadata": {
    "collapsed": true
   },
   "outputs": [],
   "source": [
    "Answer:\n",
    "# set up the matrix A\n",
    "\n",
    "X = np.matrix(' 90 60 90; 90 90 30; 60 60 60; 60 60 90; 30 30 30')\n",
    "\n",
    "# make the n x 1 column vector = 1\n",
    "one= np.matrix('1;1;1;1;1')\n",
    "one_T = one.transpose()\n",
    "n = len(X)\n",
    "\n",
    "x = X - (one*one_T*X)*(1./n)\n",
    "\n",
    "# show print statements\n",
    "x_T = x.transpose()\n",
    "\n",
    "\n",
    "V = x_T*x*(1./n)\n",
    "print(V)"
   ]
  }
 ],
 "metadata": {
  "kernelspec": {
   "display_name": "Python 2",
   "language": "python",
   "name": "python2"
  },
  "language_info": {
   "codemirror_mode": {
    "name": "ipython",
    "version": 2
   },
   "file_extension": ".py",
   "mimetype": "text/x-python",
   "name": "python",
   "nbconvert_exporter": "python",
   "pygments_lexer": "ipython2",
   "version": "2.7.13"
  }
 },
 "nbformat": 4,
 "nbformat_minor": 2
}
